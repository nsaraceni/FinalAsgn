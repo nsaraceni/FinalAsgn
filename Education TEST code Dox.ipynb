{
 "cells": [
  {
   "cell_type": "code",
   "execution_count": 2,
   "metadata": {},
   "outputs": [
    {
     "name": "stdout",
     "output_type": "stream",
     "text": [
      "Thomas should be in something else\n"
     ]
    }
   ],
   "source": [
    "Thomas_age = 7\n",
    "Age_of_Kindegarden = 5\n",
    "\n",
    "if Thomas_age < Age_of_Kindegarden:\n",
    "    print(\"Thomas should be in pre-school\")\n",
    "elif Thomas_age == Age_of_Kindegarden:\n",
    "    print('Enjoy Kindergarden')\n",
    "else:\n",
    "    print(\"Thomas should be in something else\")"
   ]
  },
  {
   "cell_type": "code",
   "execution_count": 7,
   "metadata": {},
   "outputs": [
    {
     "name": "stdout",
     "output_type": "stream",
     "text": [
      "Nolan is cool\n",
      "Nolan is cool\n",
      "Nolan is cool\n"
     ]
    }
   ],
   "source": [
    "## creating a function to print Multiple times \n",
    "\n",
    "def print_kevin(text):\n",
    "    print(text)\n",
    "    print(text)\n",
    "    print(text)\n",
    "\n",
    "print_kevin(\"Nolan is cool\")"
   ]
  },
  {
   "cell_type": "code",
   "execution_count": 13,
   "metadata": {},
   "outputs": [
    {
     "name": "stdout",
     "output_type": "stream",
     "text": [
      "Enjoy Kindergarden nolan\n"
     ]
    }
   ],
   "source": [
    "def school_Age_Calc(age,name):\n",
    "    if age < 5:\n",
    "        print('Enjoy your life!', name, 'is only', age)\n",
    "    elif age ==5:\n",
    "        print('Enjoy Kindergarden', name)\n",
    "    else:\n",
    "        print('Dont they grow so fast')\n",
    "\n",
    "school_Age_Calc(5, \"nolan\")\n"
   ]
  },
  {
   "cell_type": "code",
   "execution_count": 17,
   "metadata": {},
   "outputs": [
    {
     "name": "stdout",
     "output_type": "stream",
     "text": [
      "New Age: 60\n"
     ]
    }
   ],
   "source": [
    "def add_10_to_age(age):\n",
    "    new_age = age + 10\n",
    "    return new_age\n",
    "\n",
    "how_old_will_i_be = add_10_to_age(50)\n",
    "print('New Age:',how_old_will_i_be)"
   ]
  },
  {
   "cell_type": "code",
   "execution_count": 26,
   "metadata": {},
   "outputs": [
    {
     "name": "stdout",
     "output_type": "stream",
     "text": [
      "0\n"
     ]
    }
   ],
   "source": [
    "# working with loops\n",
    "# using while loops\n",
    "\n",
    "x=0\n",
    "while (x < 1):\n",
    "    print(x)\n",
    "    x = x + 1"
   ]
  },
  {
   "cell_type": "code",
   "execution_count": 13,
   "metadata": {},
   "outputs": [
    {
     "name": "stdout",
     "output_type": "stream",
     "text": [
      "mon\n",
      "tues\n",
      "wed\n",
      "fri\n",
      "sat\n",
      "sun\n"
     ]
    }
   ],
   "source": [
    "# using for loops\n",
    "\n",
    "days = ['mon','tues','wed','thurs','fri', 'sat', 'sun']\n",
    "\n",
    "for x in days:\n",
    "    if (x=='thurs'):continue\n",
    "    print(x)"
   ]
  },
  {
   "cell_type": "code",
   "execution_count": 14,
   "metadata": {},
   "outputs": [
    {
     "name": "stdout",
     "output_type": "stream",
     "text": [
      "pi is 3.141592653589793\n"
     ]
    }
   ],
   "source": [
    "import math\n",
    "print('pi is', math.pi)"
   ]
  },
  {
   "cell_type": "code",
   "execution_count": 1,
   "metadata": {},
   "outputs": [
    {
     "name": "stdout",
     "output_type": "stream",
     "text": [
      "2\n"
     ]
    }
   ],
   "source": [
    "x= 2\n",
    "print(x)"
   ]
  },
  {
   "cell_type": "code",
   "execution_count": 4,
   "metadata": {},
   "outputs": [
    {
     "name": "stdout",
     "output_type": "stream",
     "text": [
      "coco leamon\n"
     ]
    },
    {
     "data": {
      "text/plain": [
       "str"
      ]
     },
     "execution_count": 4,
     "metadata": {},
     "output_type": "execute_result"
    }
   ],
   "source": [
    "y = 'coco leamon'\n",
    "print(y)\n",
    "type(y)"
   ]
  },
  {
   "cell_type": "code",
   "execution_count": 7,
   "metadata": {},
   "outputs": [
    {
     "name": "stdout",
     "output_type": "stream",
     "text": [
      "2\n",
      "3\n",
      "55\n",
      "77\n"
     ]
    }
   ],
   "source": [
    "common_numbers = cn = [2,3,55,77,8,22]\n",
    "a,b,c,d,e,f = cn\n",
    "print(a) \n",
    "print(b) \n",
    "print(c) \n",
    "print(d)"
   ]
  },
  {
   "cell_type": "code",
   "execution_count": 8,
   "metadata": {},
   "outputs": [],
   "source": [
    "myline = \"\"\" There comes a time when a man need to mae a decision\"\"\"\n"
   ]
  },
  {
   "cell_type": "code",
   "execution_count": 9,
   "metadata": {},
   "outputs": [
    {
     "name": "stdout",
     "output_type": "stream",
     "text": [
      " There comes a time when a man need to mae a decision\n"
     ]
    }
   ],
   "source": [
    "print(myline)"
   ]
  },
  {
   "cell_type": "code",
   "execution_count": 10,
   "metadata": {},
   "outputs": [],
   "source": [
    "dict_cream = {'name': 'nolan saraceni', 'weekly lift':'arms'}"
   ]
  },
  {
   "cell_type": "code",
   "execution_count": 11,
   "metadata": {},
   "outputs": [
    {
     "data": {
      "text/plain": [
       "dict"
      ]
     },
     "execution_count": 11,
     "metadata": {},
     "output_type": "execute_result"
    }
   ],
   "source": [
    "type(dict_cream)"
   ]
  },
  {
   "cell_type": "code",
   "execution_count": 12,
   "metadata": {},
   "outputs": [
    {
     "name": "stdout",
     "output_type": "stream",
     "text": [
      "{'name': 'nolan saraceni', 'weekly lift': 'arms'}\n"
     ]
    }
   ],
   "source": [
    "print(dict_cream)"
   ]
  },
  {
   "cell_type": "code",
   "execution_count": 14,
   "metadata": {},
   "outputs": [
    {
     "data": {
      "text/plain": [
       "dict_keys(['name', 'weekly lift'])"
      ]
     },
     "execution_count": 14,
     "metadata": {},
     "output_type": "execute_result"
    }
   ],
   "source": [
    "dict_cream.keys()"
   ]
  },
  {
   "cell_type": "code",
   "execution_count": 15,
   "metadata": {},
   "outputs": [
    {
     "data": {
      "text/plain": [
       "dict_values(['nolan saraceni', 'arms'])"
      ]
     },
     "execution_count": 15,
     "metadata": {},
     "output_type": "execute_result"
    }
   ],
   "source": [
    "dict_cream.values()"
   ]
  },
  {
   "cell_type": "code",
   "execution_count": 16,
   "metadata": {},
   "outputs": [
    {
     "data": {
      "text/plain": [
       "dict_items([('name', 'nolan saraceni'), ('weekly lift', 'arms')])"
      ]
     },
     "execution_count": 16,
     "metadata": {},
     "output_type": "execute_result"
    }
   ],
   "source": [
    "dict_cream.items()"
   ]
  },
  {
   "cell_type": "code",
   "execution_count": 17,
   "metadata": {},
   "outputs": [],
   "source": [
    "y = 'up' \n",
    "x = 'down' \n"
   ]
  },
  {
   "cell_type": "code",
   "execution_count": 20,
   "metadata": {},
   "outputs": [
    {
     "data": {
      "text/plain": [
       "False"
      ]
     },
     "execution_count": 20,
     "metadata": {},
     "output_type": "execute_result"
    }
   ],
   "source": [
    "x>y"
   ]
  },
  {
   "cell_type": "code",
   "execution_count": 26,
   "metadata": {},
   "outputs": [
    {
     "data": {
      "text/plain": [
       "True"
      ]
     },
     "execution_count": 26,
     "metadata": {},
     "output_type": "execute_result"
    }
   ],
   "source": [
    "ice = 'i love you' \n",
    "'what' not in ice"
   ]
  },
  {
   "cell_type": "code",
   "execution_count": 35,
   "metadata": {},
   "outputs": [
    {
     "name": "stdout",
     "output_type": "stream",
     "text": [
      "suck\n",
      "on\n",
      "that!\n"
     ]
    }
   ],
   "source": [
    "if 3 < 77:\n",
    "    print('suck')\n",
    "    if 2 < 5:\n",
    "        print('on')\n",
    "    if 3 < 7:\n",
    "        print('that!')\n",
    "elif  55 == 50:\n",
    "    print('Exactly')\n",
    "else:\n",
    "    print('no')\n",
    "    "
   ]
  },
  {
   "cell_type": "code",
   "execution_count": 40,
   "metadata": {},
   "outputs": [
    {
     "name": "stdout",
     "output_type": "stream",
     "text": [
      "line: 101\n",
      "line: 102\n",
      "line: 103\n",
      "line: 104\n",
      "line: 105\n",
      "line: 106\n",
      "line: 107\n",
      "line: 108\n",
      "line: 109\n",
      "line: 111\n",
      "line: 112\n",
      "line: 113\n",
      "line: 114\n",
      "line: 115\n",
      "line: 116\n",
      "line: 117\n",
      "line: 118\n"
     ]
    }
   ],
   "source": [
    "num = [1,2,3,4,5,6,7,8,9,11,12,13,14,15,16,17,18]\n",
    "for line in num:\n",
    "    print('line:', line + 100 )"
   ]
  },
  {
   "cell_type": "code",
   "execution_count": 43,
   "metadata": {},
   "outputs": [
    {
     "name": "stdout",
     "output_type": "stream",
     "text": [
      "num1 22\n",
      "num2 55\n",
      "num3 34\n",
      "num4 43\n",
      "num5 ['Sucker', 'Face']\n"
     ]
    }
   ],
   "source": [
    "num_dict = {'num1':22, 'num2': 55, 'num3': 34, 'num4': 43, 'num5': ['Sucker', 'Face']}\n",
    "for key, value in num_dict.items():\n",
    "    print(key, value)"
   ]
  },
  {
   "cell_type": "code",
   "execution_count": 44,
   "metadata": {},
   "outputs": [],
   "source": [
    "colors = ['blue','red','black','pink']\n",
    "Tops = ['head', 'cap', 'hat', 'hood'] "
   ]
  },
  {
   "cell_type": "code",
   "execution_count": 45,
   "metadata": {},
   "outputs": [
    {
     "name": "stdout",
     "output_type": "stream",
     "text": [
      "blue no way head\n",
      "blue no way cap\n",
      "blue no way hat\n",
      "blue no way hood\n",
      "red no way head\n",
      "red no way cap\n",
      "red no way hat\n",
      "red no way hood\n",
      "black no way head\n",
      "black no way cap\n",
      "black no way hat\n",
      "black no way hood\n",
      "pink no way head\n",
      "pink no way cap\n",
      "pink no way hat\n",
      "pink no way hood\n"
     ]
    }
   ],
   "source": [
    "for line in colors:\n",
    "    for line2 in Tops:\n",
    "        print(line, 'no way', line2)"
   ]
  },
  {
   "cell_type": "code",
   "execution_count": 56,
   "metadata": {},
   "outputs": [
    {
     "name": "stdout",
     "output_type": "stream",
     "text": [
      "1000\n",
      "1099\n",
      "1198\n",
      "1297\n",
      "1396\n",
      "1495\n",
      "1594\n",
      "1693\n",
      "1792\n",
      "1891\n",
      "1990\n",
      "2089\n",
      "2188\n",
      "2287\n",
      "2386\n",
      "2485\n",
      "2584\n",
      "2683\n",
      "2782\n",
      "2881\n",
      "2980\n",
      "3079\n",
      "3178\n",
      "3277\n",
      "3376\n",
      "3475\n",
      "3574\n",
      "3673\n",
      "3772\n",
      "3871\n",
      "3970\n",
      "4069\n",
      "4168\n",
      "4267\n",
      "4366\n",
      "4465\n",
      "4564\n",
      "4663\n",
      "4762\n",
      "4861\n",
      "4960\n",
      "5059\n",
      "5158\n",
      "5257\n",
      "5356\n",
      "5455\n",
      "5554\n",
      "5653\n",
      "5752\n",
      "5851\n",
      "5950\n",
      "6049\n",
      "6148\n",
      "6247\n",
      "6346\n",
      "6445\n",
      "6544\n",
      "6643\n",
      "6742\n",
      "6841\n",
      "6940\n",
      "7039\n",
      "7138\n",
      "7237\n",
      "7336\n",
      "7435\n",
      "7534\n",
      "7633\n",
      "7732\n",
      "7831\n",
      "7930\n",
      "8029\n",
      "8128\n",
      "8227\n",
      "8326\n",
      "8425\n",
      "8524\n",
      "8623\n",
      "8722\n",
      "8821\n",
      "8920\n",
      "9019\n",
      "9118\n",
      "9217\n",
      "9316\n",
      "9415\n",
      "9514\n",
      "9613\n",
      "9712\n",
      "9811\n",
      "9910\n",
      "10009\n",
      "10108\n",
      "10207\n",
      "10306\n",
      "10405\n",
      "10504\n",
      "10603\n",
      "10702\n",
      "10801\n",
      "10900\n",
      "10999\n",
      "11098\n",
      "11197\n",
      "11296\n",
      "11395\n",
      "11494\n",
      "11593\n",
      "11692\n",
      "11791\n",
      "11890\n",
      "11989\n",
      "12088\n",
      "12187\n",
      "12286\n",
      "12385\n",
      "12484\n",
      "12583\n",
      "12682\n",
      "12781\n",
      "12880\n",
      "12979\n",
      "13078\n",
      "13177\n",
      "13276\n",
      "13375\n",
      "13474\n",
      "13573\n",
      "13672\n",
      "13771\n",
      "13870\n",
      "13969\n",
      "14068\n",
      "14167\n",
      "14266\n",
      "14365\n",
      "14464\n",
      "14563\n",
      "14662\n",
      "14761\n",
      "14860\n",
      "14959\n",
      "15058\n",
      "15157\n",
      "15256\n",
      "15355\n",
      "15454\n",
      "15553\n",
      "15652\n",
      "15751\n",
      "15850\n",
      "15949\n",
      "16048\n",
      "16147\n",
      "16246\n",
      "16345\n",
      "16444\n",
      "16543\n",
      "16642\n",
      "16741\n",
      "16840\n",
      "16939\n",
      "17038\n",
      "17137\n",
      "17236\n",
      "17335\n",
      "17434\n",
      "17533\n",
      "17632\n",
      "17731\n",
      "17830\n",
      "17929\n",
      "18028\n",
      "18127\n",
      "18226\n",
      "18325\n",
      "18424\n",
      "18523\n",
      "18622\n",
      "18721\n",
      "18820\n",
      "18919\n",
      "19018\n",
      "19117\n",
      "19216\n",
      "19315\n",
      "19414\n",
      "19513\n",
      "19612\n",
      "19711\n",
      "19810\n",
      "19909\n",
      "20008\n",
      "20107\n",
      "20206\n",
      "20305\n",
      "20404\n",
      "20503\n",
      "20602\n",
      "20701\n",
      "20800\n",
      "20899\n",
      "20998\n",
      "21097\n",
      "21196\n",
      "21295\n",
      "21394\n",
      "21493\n",
      "21592\n",
      "21691\n",
      "21790\n",
      "21889\n",
      "21988\n",
      "22087\n",
      "22186\n",
      "22285\n",
      "22384\n",
      "22483\n",
      "22582\n",
      "22681\n",
      "22780\n",
      "22879\n",
      "22978\n",
      "23077\n",
      "23176\n",
      "23275\n",
      "23374\n",
      "23473\n",
      "23572\n",
      "23671\n",
      "23770\n",
      "23869\n",
      "23968\n",
      "24067\n",
      "24166\n",
      "24265\n",
      "24364\n",
      "24463\n",
      "24562\n",
      "24661\n",
      "24760\n",
      "24859\n",
      "24958\n",
      "25057\n",
      "25156\n",
      "25255\n",
      "25354\n",
      "25453\n",
      "25552\n",
      "25651\n",
      "25750\n",
      "25849\n",
      "25948\n",
      "26047\n",
      "26146\n",
      "26245\n",
      "26344\n",
      "26443\n",
      "26542\n",
      "26641\n",
      "26740\n",
      "26839\n",
      "26938\n",
      "27037\n",
      "27136\n",
      "27235\n",
      "27334\n",
      "27433\n",
      "27532\n",
      "27631\n",
      "27730\n",
      "27829\n",
      "27928\n",
      "28027\n",
      "28126\n",
      "28225\n",
      "28324\n",
      "28423\n",
      "28522\n",
      "28621\n",
      "28720\n",
      "28819\n",
      "28918\n",
      "29017\n",
      "29116\n",
      "29215\n",
      "29314\n",
      "29413\n",
      "29512\n",
      "29611\n",
      "29710\n",
      "29809\n",
      "29908\n",
      "30007\n",
      "30106\n",
      "30205\n",
      "30304\n",
      "30403\n",
      "30502\n",
      "30601\n",
      "30700\n",
      "30799\n",
      "30898\n",
      "30997\n",
      "31096\n",
      "31195\n",
      "31294\n",
      "31393\n",
      "31492\n",
      "31591\n",
      "31690\n",
      "31789\n",
      "31888\n",
      "31987\n",
      "32086\n",
      "32185\n",
      "32284\n",
      "32383\n",
      "32482\n",
      "32581\n",
      "32680\n",
      "32779\n",
      "32878\n",
      "32977\n",
      "33076\n",
      "33175\n",
      "33274\n",
      "33373\n",
      "33472\n",
      "33571\n",
      "33670\n",
      "33769\n",
      "33868\n",
      "33967\n",
      "34066\n",
      "34165\n",
      "34264\n",
      "34363\n",
      "34462\n",
      "34561\n",
      "34660\n",
      "34759\n",
      "34858\n",
      "34957\n",
      "35056\n",
      "35155\n",
      "35254\n",
      "35353\n",
      "35452\n",
      "35551\n",
      "35650\n",
      "35749\n",
      "35848\n",
      "35947\n",
      "36046\n",
      "36145\n",
      "36244\n",
      "36343\n",
      "36442\n",
      "36541\n",
      "36640\n",
      "36739\n",
      "36838\n",
      "36937\n",
      "37036\n",
      "37135\n",
      "37234\n",
      "37333\n",
      "37432\n",
      "37531\n",
      "37630\n",
      "37729\n",
      "37828\n",
      "37927\n",
      "38026\n",
      "38125\n",
      "38224\n",
      "38323\n",
      "38422\n",
      "38521\n",
      "38620\n",
      "38719\n",
      "38818\n",
      "38917\n",
      "39016\n",
      "39115\n",
      "39214\n",
      "39313\n",
      "39412\n",
      "39511\n",
      "39610\n",
      "39709\n",
      "39808\n",
      "39907\n",
      "40006\n",
      "40105\n",
      "40204\n",
      "40303\n",
      "40402\n",
      "40501\n",
      "40600\n",
      "40699\n",
      "40798\n",
      "40897\n",
      "40996\n",
      "41095\n",
      "41194\n",
      "41293\n",
      "41392\n",
      "41491\n",
      "41590\n",
      "41689\n",
      "41788\n",
      "41887\n",
      "41986\n",
      "42085\n",
      "42184\n",
      "42283\n",
      "42382\n",
      "42481\n",
      "42580\n",
      "42679\n",
      "42778\n",
      "42877\n",
      "42976\n",
      "43075\n",
      "43174\n",
      "43273\n",
      "43372\n",
      "43471\n",
      "43570\n",
      "43669\n",
      "43768\n",
      "43867\n",
      "43966\n",
      "44065\n",
      "44164\n",
      "44263\n",
      "44362\n",
      "44461\n",
      "44560\n",
      "44659\n",
      "44758\n",
      "44857\n",
      "44956\n",
      "45055\n",
      "45154\n",
      "45253\n",
      "45352\n",
      "45451\n",
      "45550\n",
      "45649\n",
      "45748\n",
      "45847\n",
      "45946\n",
      "46045\n",
      "46144\n",
      "46243\n",
      "46342\n",
      "46441\n",
      "46540\n",
      "46639\n",
      "46738\n",
      "46837\n",
      "46936\n",
      "47035\n",
      "47134\n",
      "47233\n",
      "47332\n",
      "47431\n",
      "47530\n",
      "47629\n",
      "47728\n",
      "47827\n",
      "47926\n",
      "48025\n",
      "48124\n",
      "48223\n",
      "48322\n",
      "48421\n",
      "48520\n",
      "48619\n",
      "48718\n",
      "48817\n",
      "48916\n",
      "49015\n",
      "49114\n",
      "49213\n",
      "49312\n",
      "49411\n",
      "49510\n",
      "49609\n",
      "49708\n",
      "49807\n",
      "49906\n",
      "50005\n",
      "50104\n",
      "50203\n",
      "50302\n",
      "50401\n",
      "50500\n",
      "50599\n",
      "50698\n",
      "50797\n",
      "50896\n",
      "50995\n",
      "51094\n",
      "51193\n",
      "51292\n",
      "51391\n",
      "51490\n",
      "51589\n",
      "51688\n",
      "51787\n",
      "51886\n",
      "51985\n",
      "52084\n",
      "52183\n",
      "52282\n",
      "52381\n",
      "52480\n",
      "52579\n",
      "52678\n",
      "52777\n",
      "52876\n",
      "52975\n",
      "53074\n",
      "53173\n",
      "53272\n",
      "53371\n",
      "53470\n",
      "53569\n",
      "53668\n",
      "53767\n",
      "53866\n",
      "53965\n",
      "54064\n",
      "54163\n",
      "54262\n",
      "54361\n",
      "54460\n",
      "54559\n",
      "54658\n",
      "54757\n",
      "54856\n",
      "54955\n",
      "55054\n",
      "55153\n",
      "55252\n",
      "55351\n",
      "55450\n",
      "55549\n",
      "55648\n",
      "55747\n",
      "55846\n",
      "55945\n",
      "56044\n",
      "56143\n",
      "56242\n",
      "56341\n",
      "56440\n",
      "56539\n",
      "56638\n",
      "56737\n",
      "56836\n",
      "56935\n",
      "57034\n",
      "57133\n",
      "57232\n",
      "57331\n",
      "57430\n",
      "57529\n",
      "57628\n",
      "57727\n",
      "57826\n",
      "57925\n",
      "58024\n",
      "58123\n",
      "58222\n",
      "58321\n",
      "58420\n",
      "58519\n",
      "58618\n",
      "58717\n",
      "58816\n",
      "58915\n",
      "59014\n",
      "59113\n",
      "59212\n",
      "59311\n",
      "59410\n",
      "59509\n",
      "59608\n",
      "59707\n",
      "59806\n",
      "59905\n",
      "60004\n",
      "60103\n",
      "60202\n",
      "60301\n",
      "60400\n",
      "60499\n",
      "60598\n",
      "60697\n",
      "60796\n",
      "60895\n",
      "60994\n",
      "61093\n",
      "61192\n",
      "61291\n",
      "61390\n",
      "61489\n",
      "61588\n",
      "61687\n",
      "61786\n",
      "61885\n",
      "61984\n",
      "62083\n",
      "62182\n",
      "62281\n",
      "62380\n",
      "62479\n",
      "62578\n",
      "62677\n",
      "62776\n",
      "62875\n",
      "62974\n",
      "63073\n",
      "63172\n",
      "63271\n",
      "63370\n",
      "63469\n",
      "63568\n",
      "63667\n",
      "63766\n",
      "63865\n",
      "63964\n",
      "64063\n",
      "64162\n",
      "64261\n",
      "64360\n",
      "64459\n",
      "64558\n",
      "64657\n",
      "64756\n",
      "64855\n",
      "64954\n",
      "65053\n",
      "65152\n",
      "65251\n",
      "65350\n",
      "65449\n",
      "65548\n",
      "65647\n",
      "65746\n",
      "65845\n",
      "65944\n",
      "66043\n",
      "66142\n",
      "66241\n",
      "66340\n",
      "66439\n",
      "66538\n",
      "66637\n",
      "66736\n",
      "66835\n",
      "66934\n",
      "67033\n",
      "67132\n",
      "67231\n",
      "67330\n",
      "67429\n",
      "67528\n",
      "67627\n",
      "67726\n",
      "67825\n",
      "67924\n",
      "68023\n",
      "68122\n",
      "68221\n",
      "68320\n",
      "68419\n",
      "68518\n",
      "68617\n",
      "68716\n",
      "68815\n",
      "68914\n",
      "69013\n",
      "69112\n",
      "69211\n",
      "69310\n",
      "69409\n",
      "69508\n",
      "69607\n",
      "69706\n",
      "69805\n",
      "69904\n",
      "70003\n",
      "70102\n",
      "70201\n",
      "70300\n",
      "70399\n",
      "70498\n",
      "70597\n",
      "70696\n",
      "70795\n",
      "70894\n",
      "70993\n",
      "71092\n",
      "71191\n",
      "71290\n",
      "71389\n",
      "71488\n",
      "71587\n",
      "71686\n",
      "71785\n",
      "71884\n",
      "71983\n",
      "72082\n",
      "72181\n",
      "72280\n",
      "72379\n",
      "72478\n",
      "72577\n",
      "72676\n",
      "72775\n",
      "72874\n",
      "72973\n",
      "73072\n",
      "73171\n",
      "73270\n",
      "73369\n",
      "73468\n",
      "73567\n",
      "73666\n",
      "73765\n",
      "73864\n",
      "73963\n",
      "74062\n",
      "74161\n",
      "74260\n",
      "74359\n",
      "74458\n",
      "74557\n",
      "74656\n",
      "74755\n",
      "74854\n",
      "74953\n",
      "75052\n",
      "75151\n",
      "75250\n",
      "75349\n",
      "75448\n",
      "75547\n",
      "75646\n",
      "75745\n",
      "75844\n",
      "75943\n",
      "76042\n",
      "76141\n",
      "76240\n",
      "76339\n",
      "76438\n",
      "76537\n",
      "76636\n",
      "76735\n",
      "76834\n",
      "76933\n",
      "77032\n",
      "77131\n",
      "77230\n",
      "77329\n",
      "77428\n",
      "77527\n",
      "77626\n",
      "77725\n",
      "77824\n",
      "77923\n",
      "78022\n",
      "78121\n",
      "78220\n",
      "78319\n",
      "78418\n",
      "78517\n",
      "78616\n",
      "78715\n",
      "78814\n",
      "78913\n",
      "79012\n",
      "79111\n",
      "79210\n",
      "79309\n",
      "79408\n",
      "79507\n",
      "79606\n",
      "79705\n",
      "79804\n",
      "79903\n",
      "80002\n",
      "80101\n",
      "80200\n",
      "80299\n",
      "80398\n",
      "80497\n",
      "80596\n",
      "80695\n",
      "80794\n",
      "80893\n",
      "80992\n",
      "81091\n",
      "81190\n",
      "81289\n",
      "81388\n",
      "81487\n",
      "81586\n",
      "81685\n",
      "81784\n",
      "81883\n",
      "81982\n",
      "82081\n",
      "82180\n",
      "82279\n",
      "82378\n",
      "82477\n",
      "82576\n",
      "82675\n",
      "82774\n",
      "82873\n",
      "82972\n",
      "83071\n",
      "83170\n",
      "83269\n",
      "83368\n",
      "83467\n",
      "83566\n",
      "83665\n",
      "83764\n",
      "83863\n",
      "83962\n",
      "84061\n",
      "84160\n",
      "84259\n",
      "84358\n",
      "84457\n",
      "84556\n",
      "84655\n",
      "84754\n",
      "84853\n",
      "84952\n",
      "85051\n",
      "85150\n",
      "85249\n",
      "85348\n",
      "85447\n",
      "85546\n",
      "85645\n",
      "85744\n",
      "85843\n",
      "85942\n",
      "86041\n",
      "86140\n",
      "86239\n",
      "86338\n",
      "86437\n",
      "86536\n",
      "86635\n",
      "86734\n",
      "86833\n",
      "86932\n",
      "87031\n",
      "87130\n",
      "87229\n",
      "87328\n",
      "87427\n",
      "87526\n",
      "87625\n",
      "87724\n",
      "87823\n",
      "87922\n",
      "88021\n",
      "88120\n",
      "88219\n",
      "88318\n",
      "88417\n",
      "88516\n",
      "88615\n",
      "88714\n",
      "88813\n",
      "88912\n",
      "89011\n",
      "89110\n",
      "89209\n",
      "89308\n",
      "89407\n",
      "89506\n",
      "89605\n",
      "89704\n",
      "89803\n",
      "89902\n",
      "90001\n",
      "90100\n",
      "90199\n",
      "90298\n",
      "90397\n",
      "90496\n",
      "90595\n",
      "90694\n",
      "90793\n",
      "90892\n",
      "90991\n",
      "91090\n",
      "91189\n",
      "91288\n",
      "91387\n",
      "91486\n",
      "91585\n",
      "91684\n",
      "91783\n",
      "91882\n",
      "91981\n",
      "92080\n",
      "92179\n",
      "92278\n",
      "92377\n",
      "92476\n",
      "92575\n",
      "92674\n",
      "92773\n",
      "92872\n",
      "92971\n",
      "93070\n",
      "93169\n",
      "93268\n",
      "93367\n",
      "93466\n",
      "93565\n",
      "93664\n",
      "93763\n",
      "93862\n",
      "93961\n",
      "94060\n",
      "94159\n",
      "94258\n",
      "94357\n",
      "94456\n",
      "94555\n",
      "94654\n",
      "94753\n",
      "94852\n",
      "94951\n",
      "95050\n",
      "95149\n",
      "95248\n",
      "95347\n",
      "95446\n",
      "95545\n",
      "95644\n",
      "95743\n",
      "95842\n",
      "95941\n",
      "96040\n",
      "96139\n",
      "96238\n",
      "96337\n",
      "96436\n",
      "96535\n",
      "96634\n",
      "96733\n",
      "96832\n",
      "96931\n",
      "97030\n",
      "97129\n",
      "97228\n",
      "97327\n",
      "97426\n",
      "97525\n",
      "97624\n",
      "97723\n",
      "97822\n",
      "97921\n",
      "98020\n",
      "98119\n",
      "98218\n",
      "98317\n",
      "98416\n",
      "98515\n",
      "98614\n",
      "98713\n",
      "98812\n",
      "98911\n",
      "99010\n",
      "99109\n",
      "99208\n",
      "99307\n",
      "99406\n",
      "99505\n",
      "99604\n",
      "99703\n",
      "99802\n",
      "99901\n",
      "stop!\n"
     ]
    }
   ],
   "source": [
    "number = 1000\n",
    "while number < 100000:\n",
    "    print(number)\n",
    "    if number == 5:\n",
    "        continue\n",
    "    number = number + 99\n",
    "else:\n",
    "    print('stop!')\n",
    "  \n"
   ]
  },
  {
   "cell_type": "code",
   "execution_count": 61,
   "metadata": {},
   "outputs": [
    {
     "name": "stdout",
     "output_type": "stream",
     "text": [
      "i love you\n"
     ]
    }
   ],
   "source": [
    "def function():\n",
    "    print('i love you')\n",
    "function()"
   ]
  },
  {
   "cell_type": "code",
   "execution_count": 63,
   "metadata": {},
   "outputs": [],
   "source": [
    "def first_time(number):\n",
    "    print(number**2)"
   ]
  },
  {
   "cell_type": "code",
   "execution_count": 64,
   "metadata": {},
   "outputs": [
    {
     "name": "stdout",
     "output_type": "stream",
     "text": [
      "25\n"
     ]
    }
   ],
   "source": [
    "first_time(5)"
   ]
  },
  {
   "cell_type": "code",
   "execution_count": 65,
   "metadata": {},
   "outputs": [],
   "source": [
    "def last_time_cust(number, power):\n",
    "    print(number**power)"
   ]
  },
  {
   "cell_type": "code",
   "execution_count": 67,
   "metadata": {},
   "outputs": [
    {
     "name": "stdout",
     "output_type": "stream",
     "text": [
      "45435424\n"
     ]
    }
   ],
   "source": [
    "last_time_cust(34,5)"
   ]
  },
  {
   "cell_type": "code",
   "execution_count": 70,
   "metadata": {},
   "outputs": [],
   "source": [
    "args = (1,2,3,4,6,8,99)\n",
    "\n",
    "def first(*args):\n",
    "    print(args[0]*args[1])\n"
   ]
  },
  {
   "cell_type": "code",
   "execution_count": 71,
   "metadata": {},
   "outputs": [
    {
     "name": "stdout",
     "output_type": "stream",
     "text": [
      "2\n"
     ]
    }
   ],
   "source": [
    "first(*args)"
   ]
  },
  {
   "cell_type": "code",
   "execution_count": 74,
   "metadata": {},
   "outputs": [],
   "source": [
    "def second(**args):\n",
    "    print('my number is:' + args['integer'])"
   ]
  },
  {
   "cell_type": "code",
   "execution_count": 77,
   "metadata": {},
   "outputs": [
    {
     "name": "stdout",
     "output_type": "stream",
     "text": [
      "my number is:2344\n"
     ]
    }
   ],
   "source": [
    "second(integer = '2344')"
   ]
  },
  {
   "cell_type": "code",
   "execution_count": 78,
   "metadata": {},
   "outputs": [
    {
     "data": {
      "text/plain": [
       "int"
      ]
     },
     "execution_count": 78,
     "metadata": {},
     "output_type": "execute_result"
    }
   ],
   "source": [
    "num = 7\n",
    "type(num)"
   ]
  },
  {
   "cell_type": "code",
   "execution_count": 79,
   "metadata": {},
   "outputs": [
    {
     "data": {
      "text/plain": [
       "float"
      ]
     },
     "execution_count": 79,
     "metadata": {},
     "output_type": "execute_result"
    }
   ],
   "source": [
    "num = 7.8\n",
    "type(num)"
   ]
  },
  {
   "cell_type": "code",
   "execution_count": 80,
   "metadata": {},
   "outputs": [
    {
     "data": {
      "text/plain": [
       "str"
      ]
     },
     "execution_count": 80,
     "metadata": {},
     "output_type": "execute_result"
    }
   ],
   "source": [
    "num = 'the'\"Code - Insiders.VisualElementsManifest.xml\"\n",
    "type(num)"
   ]
  },
  {
   "cell_type": "code",
   "execution_count": 83,
   "metadata": {},
   "outputs": [
    {
     "name": "stdout",
     "output_type": "stream",
     "text": [
      "8.0\n"
     ]
    }
   ],
   "source": [
    "num = float(8)\n",
    "type(num)\n",
    "print(num)"
   ]
  },
  {
   "cell_type": "code",
   "execution_count": 85,
   "metadata": {},
   "outputs": [
    {
     "data": {
      "text/plain": [
       "tuple"
      ]
     },
     "execution_count": 85,
     "metadata": {},
     "output_type": "execute_result"
    }
   ],
   "source": [
    "tople = (1,1,1,1)\n",
    "type(list)"
   ]
  },
  {
   "cell_type": "code",
   "execution_count": 97,
   "metadata": {},
   "outputs": [
    {
     "data": {
      "text/plain": [
       "tuple"
      ]
     },
     "execution_count": 97,
     "metadata": {},
     "output_type": "execute_result"
    }
   ],
   "source": [
    "lst = [2,4,6,8]\n",
    "type(list)"
   ]
  },
  {
   "cell_type": "code",
   "execution_count": 90,
   "metadata": {},
   "outputs": [
    {
     "data": {
      "text/plain": [
       "dict"
      ]
     },
     "execution_count": 90,
     "metadata": {},
     "output_type": "execute_result"
    }
   ],
   "source": [
    "type_dict = {'name': 'Nolan'}\n",
    "type(type_dict)"
   ]
  },
  {
   "cell_type": "code",
   "execution_count": 91,
   "metadata": {},
   "outputs": [
    {
     "data": {
      "text/plain": [
       "dict_items([('name', 'Nolan')])"
      ]
     },
     "execution_count": 91,
     "metadata": {},
     "output_type": "execute_result"
    }
   ],
   "source": [
    "type_dict.items()"
   ]
  },
  {
   "cell_type": "code",
   "execution_count": 92,
   "metadata": {},
   "outputs": [
    {
     "data": {
      "text/plain": [
       "dict_keys(['name'])"
      ]
     },
     "execution_count": 92,
     "metadata": {},
     "output_type": "execute_result"
    }
   ],
   "source": [
    "type_dict.keys()"
   ]
  },
  {
   "cell_type": "code",
   "execution_count": 94,
   "metadata": {},
   "outputs": [
    {
     "data": {
      "text/plain": [
       "dict_values(['Nolan'])"
      ]
     },
     "execution_count": 94,
     "metadata": {},
     "output_type": "execute_result"
    }
   ],
   "source": [
    "type_dict.values()"
   ]
  },
  {
   "cell_type": "code",
   "execution_count": 103,
   "metadata": {},
   "outputs": [
    {
     "ename": "TypeError",
     "evalue": "'tuple' object is not callable",
     "output_type": "error",
     "traceback": [
      "\u001b[1;31m---------------------------------------------------------------------------\u001b[0m",
      "\u001b[1;31mTypeError\u001b[0m                                 Traceback (most recent call last)",
      "\u001b[1;32mUntitled-2.ipynb Cell 47\u001b[0m line \u001b[0;36m1\n\u001b[1;32m----> <a href='vscode-notebook-cell:Untitled-2.ipynb?jupyter-notebook#X64sdW50aXRsZWQ%3D?line=0'>1</a>\u001b[0m \u001b[39mtype\u001b[39m(\u001b[39mlist\u001b[39;49m(type_dict\u001b[39m.\u001b[39;49mvalues()))\n",
      "\u001b[1;31mTypeError\u001b[0m: 'tuple' object is not callable"
     ]
    }
   ],
   "source": [
    "type(list(type_dict.values()))"
   ]
  },
  {
   "cell_type": "code",
   "execution_count": null,
   "metadata": {},
   "outputs": [],
   "source": []
  },
  {
   "cell_type": "code",
   "execution_count": 104,
   "metadata": {},
   "outputs": [],
   "source": [
    "import os, shutil"
   ]
  },
  {
   "cell_type": "code",
   "execution_count": 157,
   "metadata": {},
   "outputs": [],
   "source": [
    "path = \"C:/Users/nolan/OneDrive/Case Study #2 - BelaBeat/\"\n"
   ]
  },
  {
   "cell_type": "code",
   "execution_count": 158,
   "metadata": {},
   "outputs": [],
   "source": [
    "file_name = os.listdir(path)"
   ]
  },
  {
   "cell_type": "code",
   "execution_count": 164,
   "metadata": {},
   "outputs": [],
   "source": [
    "folder_names = ['csv files', 'txt files', 'pdf files']\n",
    "\n",
    "for line in range(0,3):\n",
    "    if not os.path.exists(path + folder_names[line]):\n",
    "        print(path + folder_names[line])\n",
    "        os.makedirs(path + folder_names[line])  \n",
    "\n",
    "if file in file_name:\n",
    "    if '.csv' in file and not os.path.exists(path + 'csv files/' + file):\n",
    "        shutil.move(path + file, path + 'csv files/' + file)\n",
    "\n",
    "    elif '.txt' in file and not os.path.exists(path + 'txt files/' + file):\n",
    "        shutil.move(path + file, path + 'txt files/' + file)\n",
    "    elif '.pdf' in file and not os.path.exists(path + 'pdf files/' + file):\n",
    "        shutil.move(path + file, path + 'pdf files/' + file)\n"
   ]
  },
  {
   "cell_type": "code",
   "execution_count": null,
   "metadata": {},
   "outputs": [],
   "source": []
  }
 ],
 "metadata": {
  "kernelspec": {
   "display_name": "Python 3",
   "language": "python",
   "name": "python3"
  },
  "language_info": {
   "codemirror_mode": {
    "name": "ipython",
    "version": 3
   },
   "file_extension": ".py",
   "mimetype": "text/x-python",
   "name": "python",
   "nbconvert_exporter": "python",
   "pygments_lexer": "ipython3",
   "version": "3.11.6"
  }
 },
 "nbformat": 4,
 "nbformat_minor": 2
}
