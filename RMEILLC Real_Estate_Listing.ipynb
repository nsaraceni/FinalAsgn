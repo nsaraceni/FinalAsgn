{
 "cells": [
  {
   "cell_type": "code",
   "execution_count": 3,
   "metadata": {},
   "outputs": [],
   "source": [
    "import csv\n",
    "import requests\n",
    "from datetime import datetime\n",
    "import time\n",
    "\n",
    "try:\n",
    "    import schedule\n",
    "except ModuleNotFoundError:\n",
    "    pass\n",
    "    %pip install schedule\n",
    "\n",
    "import schedule\n",
    "\n",
    "OUTPUT_FILE_PATH = r\"C:\\Users\\nolan\\OneDrive\\Documents\\RMEI LLC\\All_Montana_Listiingsv2.csv\" \n",
    "API_URL = \"https://portal.onehome.com/en-US/properties/single-line?searchId=d208cc96-846c-473a-92ea-1bec82ed278e&token=eyJPU04iOiJCTVQiLCJjb250YWN0aWQiOiIxODc1OTYiLCJlbWFpbCI6Im5vbGFuLnNhcmFjZW5pMTA0N0BnbWFpbC5jb20iLCJhZ2VudGlkIjoiNDY4MSJ9\"\n",
    "\n",
    "def export_csv():\n",
    "    response = requests.get(API_URL)\n",
    "    lines = response.text.splitlines()  \n",
    "    reader = csv.reader(lines)\n",
    "    with open(OUTPUT_FILE_PATH, 'w', newline='') as f:\n",
    "        writer = csv.writer(f)\n",
    "        for row in reader:\n",
    "            writer.writerow(row)\n",
    "    print(f\"CSV exported at {datetime.now()}\")\n",
    "\n",
    "schedule.every().monday.at(\"07:00:00\").do(export_csv)  \n",
    "\n",
    "while True:\n",
    "    schedule.run_pending()\n",
    "    time.sleep(1000) # wait one minute\n"
   ]
  }
 ],
 "metadata": {
  "kernelspec": {
   "display_name": "Python 3",
   "language": "python",
   "name": "python3"
  },
  "language_info": {
   "codemirror_mode": {
    "name": "ipython",
    "version": 3
   },
   "file_extension": ".py",
   "mimetype": "text/x-python",
   "name": "python",
   "nbconvert_exporter": "python",
   "pygments_lexer": "ipython3",
   "version": "3.10.8"
  }
 },
 "nbformat": 4,
 "nbformat_minor": 2
}
