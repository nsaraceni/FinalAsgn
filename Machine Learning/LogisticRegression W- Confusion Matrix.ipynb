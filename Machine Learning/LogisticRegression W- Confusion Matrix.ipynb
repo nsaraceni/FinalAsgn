{
  "metadata": {
    "language_info": {
      "codemirror_mode": {
        "name": "python",
        "version": 3
      },
      "file_extension": ".py",
      "mimetype": "text/x-python",
      "name": "python",
      "nbconvert_exporter": "python",
      "pygments_lexer": "ipython3",
      "version": "3.8"
    },
    "kernelspec": {
      "name": "python",
      "display_name": "Pyolite",
      "language": "python"
    }
  },
  "nbformat_minor": 4,
  "nbformat": 4,
  "cells": [
    {
      "cell_type": "markdown",
      "source": "# Logistic Regression",
      "metadata": {}
    },
    {
      "cell_type": "code",
      "source": "import piplite\nawait piplite.install(['pandas'])\nawait piplite.install(['matplotlib'])\nawait piplite.install(['numpy'])\nawait piplite.install(['scikit-learn'])\nawait piplite.install(['scipy'])\n",
      "metadata": {
        "trusted": true
      },
      "execution_count": 2,
      "outputs": []
    },
    {
      "cell_type": "code",
      "source": "import pandas as pd\nimport numpy as np\nimport matplotlib.pyplot as plt\n%matplotlib inline\nimport pylab as pl\nimport scipy.optimize as opt\nfrom sklearn import preprocessing",
      "metadata": {
        "trusted": true
      },
      "execution_count": 5,
      "outputs": []
    },
    {
      "cell_type": "code",
      "source": "from pyodide.http import pyfetch\n\nasync def download(url,filename):\n    response = await pyfetch(url)\n    if response.status == 200:\n        with open(filename, 'wb') as f:\n            f.write(await response.bytes())",
      "metadata": {
        "trusted": true
      },
      "execution_count": 7,
      "outputs": []
    },
    {
      "cell_type": "markdown",
      "source": "## The Dataset\n\na telecommunications dataset for predicting customer churn. This is a historical customer dataset where each row represents one customer. The data is relatively easy to understand, and you may uncover insights you can use immediately. Typically it is less expensive to keep customers than acquire new ones, so the focus of this analysis is to predict the customers who will stay with the company.\nThis data set provides information to help you predict what behavior will help you to retain customers. You can analyze all relevant customer data and develop focused customer retention programs.",
      "metadata": {}
    },
    {
      "cell_type": "code",
      "source": "# load the data\npath = \"https://cf-courses-data.s3.us.cloud-object-storage.appdomain.cloud/IBMDeveloperSkillsNetwork-ML0101EN-SkillsNetwork/labs/Module%203/data/ChurnData.csv\"",
      "metadata": {
        "trusted": true
      },
      "execution_count": 9,
      "outputs": []
    },
    {
      "cell_type": "code",
      "source": "await download(path, 'ChurnData.csv')\npath = 'ChurnData.csv'",
      "metadata": {
        "trusted": true
      },
      "execution_count": 10,
      "outputs": []
    },
    {
      "cell_type": "code",
      "source": "churn_df = pd.read_csv(path)\nchurn_df.head()",
      "metadata": {
        "trusted": true
      },
      "execution_count": 11,
      "outputs": [
        {
          "execution_count": 11,
          "output_type": "execute_result",
          "data": {
            "text/plain": "   tenure   age  address  income   ed  employ  equip  callcard  wireless  \\\n0    11.0  33.0      7.0   136.0  5.0     5.0    0.0       1.0       1.0   \n1    33.0  33.0     12.0    33.0  2.0     0.0    0.0       0.0       0.0   \n2    23.0  30.0      9.0    30.0  1.0     2.0    0.0       0.0       0.0   \n3    38.0  35.0      5.0    76.0  2.0    10.0    1.0       1.0       1.0   \n4     7.0  35.0     14.0    80.0  2.0    15.0    0.0       1.0       0.0   \n\n   longmon  ...  pager  internet  callwait  confer  ebill  loglong  logtoll  \\\n0     4.40  ...    1.0       0.0       1.0     1.0    0.0    1.482    3.033   \n1     9.45  ...    0.0       0.0       0.0     0.0    0.0    2.246    3.240   \n2     6.30  ...    0.0       0.0       0.0     1.0    0.0    1.841    3.240   \n3     6.05  ...    1.0       1.0       1.0     1.0    1.0    1.800    3.807   \n4     7.10  ...    0.0       0.0       1.0     1.0    0.0    1.960    3.091   \n\n   lninc  custcat  churn  \n0  4.913      4.0    1.0  \n1  3.497      1.0    1.0  \n2  3.401      3.0    0.0  \n3  4.331      4.0    0.0  \n4  4.382      3.0    0.0  \n\n[5 rows x 28 columns]",
            "text/html": "<div>\n<style scoped>\n    .dataframe tbody tr th:only-of-type {\n        vertical-align: middle;\n    }\n\n    .dataframe tbody tr th {\n        vertical-align: top;\n    }\n\n    .dataframe thead th {\n        text-align: right;\n    }\n</style>\n<table border=\"1\" class=\"dataframe\">\n  <thead>\n    <tr style=\"text-align: right;\">\n      <th></th>\n      <th>tenure</th>\n      <th>age</th>\n      <th>address</th>\n      <th>income</th>\n      <th>ed</th>\n      <th>employ</th>\n      <th>equip</th>\n      <th>callcard</th>\n      <th>wireless</th>\n      <th>longmon</th>\n      <th>...</th>\n      <th>pager</th>\n      <th>internet</th>\n      <th>callwait</th>\n      <th>confer</th>\n      <th>ebill</th>\n      <th>loglong</th>\n      <th>logtoll</th>\n      <th>lninc</th>\n      <th>custcat</th>\n      <th>churn</th>\n    </tr>\n  </thead>\n  <tbody>\n    <tr>\n      <th>0</th>\n      <td>11.0</td>\n      <td>33.0</td>\n      <td>7.0</td>\n      <td>136.0</td>\n      <td>5.0</td>\n      <td>5.0</td>\n      <td>0.0</td>\n      <td>1.0</td>\n      <td>1.0</td>\n      <td>4.40</td>\n      <td>...</td>\n      <td>1.0</td>\n      <td>0.0</td>\n      <td>1.0</td>\n      <td>1.0</td>\n      <td>0.0</td>\n      <td>1.482</td>\n      <td>3.033</td>\n      <td>4.913</td>\n      <td>4.0</td>\n      <td>1.0</td>\n    </tr>\n    <tr>\n      <th>1</th>\n      <td>33.0</td>\n      <td>33.0</td>\n      <td>12.0</td>\n      <td>33.0</td>\n      <td>2.0</td>\n      <td>0.0</td>\n      <td>0.0</td>\n      <td>0.0</td>\n      <td>0.0</td>\n      <td>9.45</td>\n      <td>...</td>\n      <td>0.0</td>\n      <td>0.0</td>\n      <td>0.0</td>\n      <td>0.0</td>\n      <td>0.0</td>\n      <td>2.246</td>\n      <td>3.240</td>\n      <td>3.497</td>\n      <td>1.0</td>\n      <td>1.0</td>\n    </tr>\n    <tr>\n      <th>2</th>\n      <td>23.0</td>\n      <td>30.0</td>\n      <td>9.0</td>\n      <td>30.0</td>\n      <td>1.0</td>\n      <td>2.0</td>\n      <td>0.0</td>\n      <td>0.0</td>\n      <td>0.0</td>\n      <td>6.30</td>\n      <td>...</td>\n      <td>0.0</td>\n      <td>0.0</td>\n      <td>0.0</td>\n      <td>1.0</td>\n      <td>0.0</td>\n      <td>1.841</td>\n      <td>3.240</td>\n      <td>3.401</td>\n      <td>3.0</td>\n      <td>0.0</td>\n    </tr>\n    <tr>\n      <th>3</th>\n      <td>38.0</td>\n      <td>35.0</td>\n      <td>5.0</td>\n      <td>76.0</td>\n      <td>2.0</td>\n      <td>10.0</td>\n      <td>1.0</td>\n      <td>1.0</td>\n      <td>1.0</td>\n      <td>6.05</td>\n      <td>...</td>\n      <td>1.0</td>\n      <td>1.0</td>\n      <td>1.0</td>\n      <td>1.0</td>\n      <td>1.0</td>\n      <td>1.800</td>\n      <td>3.807</td>\n      <td>4.331</td>\n      <td>4.0</td>\n      <td>0.0</td>\n    </tr>\n    <tr>\n      <th>4</th>\n      <td>7.0</td>\n      <td>35.0</td>\n      <td>14.0</td>\n      <td>80.0</td>\n      <td>2.0</td>\n      <td>15.0</td>\n      <td>0.0</td>\n      <td>1.0</td>\n      <td>0.0</td>\n      <td>7.10</td>\n      <td>...</td>\n      <td>0.0</td>\n      <td>0.0</td>\n      <td>1.0</td>\n      <td>1.0</td>\n      <td>0.0</td>\n      <td>1.960</td>\n      <td>3.091</td>\n      <td>4.382</td>\n      <td>3.0</td>\n      <td>0.0</td>\n    </tr>\n  </tbody>\n</table>\n<p>5 rows × 28 columns</p>\n</div>"
          },
          "metadata": {}
        }
      ]
    },
    {
      "cell_type": "markdown",
      "source": "### Data preprocessing and selection",
      "metadata": {}
    },
    {
      "cell_type": "code",
      "source": "chrun_df = churn_df[['tenure', 'age', 'address', 'income', 'ed', 'employ', 'equip',   'callcard', 'wireless','churn']]\nchurn_df['churn'] = churn_df['churn'].astype('int')\nchurn_df.head()",
      "metadata": {
        "trusted": true
      },
      "execution_count": 12,
      "outputs": [
        {
          "execution_count": 12,
          "output_type": "execute_result",
          "data": {
            "text/plain": "   tenure   age  address  income   ed  employ  equip  callcard  wireless  \\\n0    11.0  33.0      7.0   136.0  5.0     5.0    0.0       1.0       1.0   \n1    33.0  33.0     12.0    33.0  2.0     0.0    0.0       0.0       0.0   \n2    23.0  30.0      9.0    30.0  1.0     2.0    0.0       0.0       0.0   \n3    38.0  35.0      5.0    76.0  2.0    10.0    1.0       1.0       1.0   \n4     7.0  35.0     14.0    80.0  2.0    15.0    0.0       1.0       0.0   \n\n   longmon  ...  pager  internet  callwait  confer  ebill  loglong  logtoll  \\\n0     4.40  ...    1.0       0.0       1.0     1.0    0.0    1.482    3.033   \n1     9.45  ...    0.0       0.0       0.0     0.0    0.0    2.246    3.240   \n2     6.30  ...    0.0       0.0       0.0     1.0    0.0    1.841    3.240   \n3     6.05  ...    1.0       1.0       1.0     1.0    1.0    1.800    3.807   \n4     7.10  ...    0.0       0.0       1.0     1.0    0.0    1.960    3.091   \n\n   lninc  custcat  churn  \n0  4.913      4.0      1  \n1  3.497      1.0      1  \n2  3.401      3.0      0  \n3  4.331      4.0      0  \n4  4.382      3.0      0  \n\n[5 rows x 28 columns]",
            "text/html": "<div>\n<style scoped>\n    .dataframe tbody tr th:only-of-type {\n        vertical-align: middle;\n    }\n\n    .dataframe tbody tr th {\n        vertical-align: top;\n    }\n\n    .dataframe thead th {\n        text-align: right;\n    }\n</style>\n<table border=\"1\" class=\"dataframe\">\n  <thead>\n    <tr style=\"text-align: right;\">\n      <th></th>\n      <th>tenure</th>\n      <th>age</th>\n      <th>address</th>\n      <th>income</th>\n      <th>ed</th>\n      <th>employ</th>\n      <th>equip</th>\n      <th>callcard</th>\n      <th>wireless</th>\n      <th>longmon</th>\n      <th>...</th>\n      <th>pager</th>\n      <th>internet</th>\n      <th>callwait</th>\n      <th>confer</th>\n      <th>ebill</th>\n      <th>loglong</th>\n      <th>logtoll</th>\n      <th>lninc</th>\n      <th>custcat</th>\n      <th>churn</th>\n    </tr>\n  </thead>\n  <tbody>\n    <tr>\n      <th>0</th>\n      <td>11.0</td>\n      <td>33.0</td>\n      <td>7.0</td>\n      <td>136.0</td>\n      <td>5.0</td>\n      <td>5.0</td>\n      <td>0.0</td>\n      <td>1.0</td>\n      <td>1.0</td>\n      <td>4.40</td>\n      <td>...</td>\n      <td>1.0</td>\n      <td>0.0</td>\n      <td>1.0</td>\n      <td>1.0</td>\n      <td>0.0</td>\n      <td>1.482</td>\n      <td>3.033</td>\n      <td>4.913</td>\n      <td>4.0</td>\n      <td>1</td>\n    </tr>\n    <tr>\n      <th>1</th>\n      <td>33.0</td>\n      <td>33.0</td>\n      <td>12.0</td>\n      <td>33.0</td>\n      <td>2.0</td>\n      <td>0.0</td>\n      <td>0.0</td>\n      <td>0.0</td>\n      <td>0.0</td>\n      <td>9.45</td>\n      <td>...</td>\n      <td>0.0</td>\n      <td>0.0</td>\n      <td>0.0</td>\n      <td>0.0</td>\n      <td>0.0</td>\n      <td>2.246</td>\n      <td>3.240</td>\n      <td>3.497</td>\n      <td>1.0</td>\n      <td>1</td>\n    </tr>\n    <tr>\n      <th>2</th>\n      <td>23.0</td>\n      <td>30.0</td>\n      <td>9.0</td>\n      <td>30.0</td>\n      <td>1.0</td>\n      <td>2.0</td>\n      <td>0.0</td>\n      <td>0.0</td>\n      <td>0.0</td>\n      <td>6.30</td>\n      <td>...</td>\n      <td>0.0</td>\n      <td>0.0</td>\n      <td>0.0</td>\n      <td>1.0</td>\n      <td>0.0</td>\n      <td>1.841</td>\n      <td>3.240</td>\n      <td>3.401</td>\n      <td>3.0</td>\n      <td>0</td>\n    </tr>\n    <tr>\n      <th>3</th>\n      <td>38.0</td>\n      <td>35.0</td>\n      <td>5.0</td>\n      <td>76.0</td>\n      <td>2.0</td>\n      <td>10.0</td>\n      <td>1.0</td>\n      <td>1.0</td>\n      <td>1.0</td>\n      <td>6.05</td>\n      <td>...</td>\n      <td>1.0</td>\n      <td>1.0</td>\n      <td>1.0</td>\n      <td>1.0</td>\n      <td>1.0</td>\n      <td>1.800</td>\n      <td>3.807</td>\n      <td>4.331</td>\n      <td>4.0</td>\n      <td>0</td>\n    </tr>\n    <tr>\n      <th>4</th>\n      <td>7.0</td>\n      <td>35.0</td>\n      <td>14.0</td>\n      <td>80.0</td>\n      <td>2.0</td>\n      <td>15.0</td>\n      <td>0.0</td>\n      <td>1.0</td>\n      <td>0.0</td>\n      <td>7.10</td>\n      <td>...</td>\n      <td>0.0</td>\n      <td>0.0</td>\n      <td>1.0</td>\n      <td>1.0</td>\n      <td>0.0</td>\n      <td>1.960</td>\n      <td>3.091</td>\n      <td>4.382</td>\n      <td>3.0</td>\n      <td>0</td>\n    </tr>\n  </tbody>\n</table>\n<p>5 rows × 28 columns</p>\n</div>"
          },
          "metadata": {}
        }
      ]
    },
    {
      "cell_type": "code",
      "source": "churn_df.columns",
      "metadata": {
        "trusted": true
      },
      "execution_count": 15,
      "outputs": [
        {
          "execution_count": 15,
          "output_type": "execute_result",
          "data": {
            "text/plain": "Index(['tenure', 'age', 'address', 'income', 'ed', 'employ', 'equip',\n       'callcard', 'wireless', 'longmon', 'tollmon', 'equipmon', 'cardmon',\n       'wiremon', 'longten', 'tollten', 'cardten', 'voice', 'pager',\n       'internet', 'callwait', 'confer', 'ebill', 'loglong', 'logtoll',\n       'lninc', 'custcat', 'churn'],\n      dtype='object')"
          },
          "metadata": {}
        }
      ]
    },
    {
      "cell_type": "code",
      "source": "chrun_df.shape",
      "metadata": {
        "trusted": true
      },
      "execution_count": 16,
      "outputs": [
        {
          "execution_count": 16,
          "output_type": "execute_result",
          "data": {
            "text/plain": "(200, 10)"
          },
          "metadata": {}
        }
      ]
    },
    {
      "cell_type": "code",
      "source": "churn_df.dtypes",
      "metadata": {
        "trusted": true
      },
      "execution_count": 22,
      "outputs": [
        {
          "execution_count": 22,
          "output_type": "execute_result",
          "data": {
            "text/plain": "tenure      float64\nage         float64\naddress     float64\nincome      float64\ned          float64\nemploy      float64\nequip       float64\ncallcard    float64\nwireless    float64\nlongmon     float64\ntollmon     float64\nequipmon    float64\ncardmon     float64\nwiremon     float64\nlongten     float64\ntollten     float64\ncardten     float64\nvoice       float64\npager       float64\ninternet    float64\ncallwait    float64\nconfer      float64\nebill       float64\nloglong     float64\nlogtoll     float64\nlninc       float64\ncustcat     float64\nchurn         int32\ndtype: object"
          },
          "metadata": {}
        }
      ]
    },
    {
      "cell_type": "code",
      "source": "# defining x and y for your dataset\n\nX = np.array(chrun_df[['tenure', 'age', 'address', 'income', 'ed', 'employ', 'equip']])\nX[0:5]",
      "metadata": {
        "trusted": true
      },
      "execution_count": 23,
      "outputs": [
        {
          "execution_count": 23,
          "output_type": "execute_result",
          "data": {
            "text/plain": "array([[ 11.,  33.,   7., 136.,   5.,   5.,   0.],\n       [ 33.,  33.,  12.,  33.,   2.,   0.,   0.],\n       [ 23.,  30.,   9.,  30.,   1.,   2.,   0.],\n       [ 38.,  35.,   5.,  76.,   2.,  10.,   1.],\n       [  7.,  35.,  14.,  80.,   2.,  15.,   0.]])"
          },
          "metadata": {}
        }
      ]
    },
    {
      "cell_type": "code",
      "source": "y = np.array(chrun_df['churn'])\ny[0:5]",
      "metadata": {
        "trusted": true
      },
      "execution_count": 24,
      "outputs": [
        {
          "execution_count": 24,
          "output_type": "execute_result",
          "data": {
            "text/plain": "array([1., 1., 0., 0., 0.])"
          },
          "metadata": {}
        }
      ]
    },
    {
      "cell_type": "code",
      "source": "# normalize the dataset\n\nfrom sklearn import preprocessing\nX= preprocessing.StandardScaler().fit(X).transform(X)\nX[0:5]",
      "metadata": {
        "trusted": true
      },
      "execution_count": 26,
      "outputs": [
        {
          "execution_count": 26,
          "output_type": "execute_result",
          "data": {
            "text/plain": "array([[-1.13518441, -0.62595491, -0.4588971 ,  0.4751423 ,  1.6961288 ,\n        -0.58477841, -0.85972695],\n       [-0.11604313, -0.62595491,  0.03454064, -0.32886061, -0.6433592 ,\n        -1.14437497, -0.85972695],\n       [-0.57928917, -0.85594447, -0.261522  , -0.35227817, -1.42318853,\n        -0.92053635, -0.85972695],\n       [ 0.11557989, -0.47262854, -0.65627219,  0.00679109, -0.6433592 ,\n        -0.02518185,  1.16316   ],\n       [-1.32048283, -0.47262854,  0.23191574,  0.03801451, -0.6433592 ,\n         0.53441472, -0.85972695]])"
          },
          "metadata": {}
        }
      ]
    },
    {
      "cell_type": "code",
      "source": "### Train/Test dataset",
      "metadata": {},
      "execution_count": null,
      "outputs": []
    },
    {
      "cell_type": "code",
      "source": "from sklearn.model_selection import train_test_split\nX_train, X_test, y_train, y_test = train_test_split (X, y, test_size =.20, random_state=4)\nprint('X_train.shape=', X_train.shape, 'Y_train.shape', y_train.shape)\nprint('X_test.shape=', X_test.shape, 'Y_test.shape', y_test.shape)",
      "metadata": {
        "trusted": true
      },
      "execution_count": 27,
      "outputs": [
        {
          "name": "stdout",
          "text": "X_train.shape= (160, 7) Y_train.shape (160,)\nX_test.shape= (40, 7) Y_test.shape (40,)\n",
          "output_type": "stream"
        }
      ]
    },
    {
      "cell_type": "markdown",
      "source": "## Modeling logistic regression with sklearn",
      "metadata": {}
    },
    {
      "cell_type": "code",
      "source": "from sklearn.linear_model import LogisticRegression\nfrom sklearn.metrics import confusion_matrix\nLR = LogisticRegression(C=0.01, solver='liblinear').fit(X_train, y_train)\nLR",
      "metadata": {
        "trusted": true
      },
      "execution_count": 30,
      "outputs": [
        {
          "execution_count": 30,
          "output_type": "execute_result",
          "data": {
            "text/plain": "LogisticRegression(C=0.01, solver='liblinear')"
          },
          "metadata": {}
        }
      ]
    },
    {
      "cell_type": "code",
      "source": "# now predict using the test set \n\nyhat = LR.predict(X_test)\nyhat",
      "metadata": {
        "trusted": true
      },
      "execution_count": 31,
      "outputs": [
        {
          "execution_count": 31,
          "output_type": "execute_result",
          "data": {
            "text/plain": "array([0., 0., 0., 0., 0., 0., 0., 0., 1., 0., 0., 0., 1., 1., 0., 0., 0.,\n       1., 1., 0., 0., 0., 0., 0., 0., 0., 0., 0., 0., 0., 0., 0., 1., 0.,\n       0., 0., 1., 0., 0., 0.])"
          },
          "metadata": {}
        }
      ]
    },
    {
      "cell_type": "code",
      "source": "yhat_prob = LR.predict_proba(X_test)\nyhat_prob",
      "metadata": {
        "trusted": true
      },
      "execution_count": 32,
      "outputs": [
        {
          "execution_count": 32,
          "output_type": "execute_result",
          "data": {
            "text/plain": "array([[0.54132919, 0.45867081],\n       [0.60593357, 0.39406643],\n       [0.56277713, 0.43722287],\n       [0.63432489, 0.36567511],\n       [0.56431839, 0.43568161],\n       [0.55386646, 0.44613354],\n       [0.52237207, 0.47762793],\n       [0.60514349, 0.39485651],\n       [0.41069572, 0.58930428],\n       [0.6333873 , 0.3666127 ],\n       [0.58068791, 0.41931209],\n       [0.62768628, 0.37231372],\n       [0.47559883, 0.52440117],\n       [0.4267593 , 0.5732407 ],\n       [0.66172417, 0.33827583],\n       [0.55092315, 0.44907685],\n       [0.51749946, 0.48250054],\n       [0.485743  , 0.514257  ],\n       [0.49011451, 0.50988549],\n       [0.52423349, 0.47576651],\n       [0.61619519, 0.38380481],\n       [0.52696302, 0.47303698],\n       [0.63957168, 0.36042832],\n       [0.52205164, 0.47794836],\n       [0.50572852, 0.49427148],\n       [0.70706202, 0.29293798],\n       [0.55266286, 0.44733714],\n       [0.52271594, 0.47728406],\n       [0.51638863, 0.48361137],\n       [0.71331391, 0.28668609],\n       [0.67862111, 0.32137889],\n       [0.50896403, 0.49103597],\n       [0.42348082, 0.57651918],\n       [0.71495838, 0.28504162],\n       [0.59711064, 0.40288936],\n       [0.63808839, 0.36191161],\n       [0.39957895, 0.60042105],\n       [0.52127638, 0.47872362],\n       [0.65975464, 0.34024536],\n       [0.5114172 , 0.4885828 ]])"
          },
          "metadata": {}
        }
      ]
    },
    {
      "cell_type": "code",
      "source": "# Evaluation W/ jaccard index\n\nfrom sklearn.metrics import jaccard_score\njaccard_score(y_test, yhat,pos_label=0)",
      "metadata": {
        "trusted": true
      },
      "execution_count": 33,
      "outputs": [
        {
          "execution_count": 33,
          "output_type": "execute_result",
          "data": {
            "text/plain": "0.7058823529411765"
          },
          "metadata": {}
        }
      ]
    },
    {
      "cell_type": "code",
      "source": "# Confusion Matrix is another way to look at the accuracy of the, \n# classifier is to look at confusino matrix\n\nfrom sklearn.metrics import classification_report, confusion_matrix\nimport itertools\ndef plot_confusion_matrix(cm, classes,\n                          normalize=False,\n                          title='Confusion matrix',\n                          cmap=plt.cm.Blues):\n    \"\"\"\n    This function prints and plots the confusion matrix.\n    Normalization can be applied by setting `normalize=True`.\n    \"\"\"\n    if normalize:\n        cm = cm.astype('float') / cm.sum(axis=1)[:, np.newaxis]\n        print(\"Normalized confusion matrix\")\n    else:\n        print('Confusion matrix, without normalization')\n\n    print(cm)\n\n    plt.imshow(cm, interpolation='nearest', cmap=cmap)\n    plt.title(title)\n    plt.colorbar()\n    tick_marks = np.arange(len(classes))\n    plt.xticks(tick_marks, classes, rotation=45)\n    plt.yticks(tick_marks, classes)\n\n    fmt = '.2f' if normalize else 'd'\n    thresh = cm.max() / 2.\n    for i, j in itertools.product(range(cm.shape[0]), range(cm.shape[1])):\n        plt.text(j, i, format(cm[i, j], fmt),\n                 horizontalalignment=\"center\",\n                 color=\"white\" if cm[i, j] > thresh else \"black\")\n\n    plt.tight_layout()\n    plt.ylabel('True label')\n    plt.xlabel('Predicted label')\nprint(confusion_matrix(y_test, yhat, labels=[1,0]))\n",
      "metadata": {
        "trusted": true
      },
      "execution_count": 34,
      "outputs": [
        {
          "name": "stdout",
          "text": "[[ 6  9]\n [ 1 24]]\n",
          "output_type": "stream"
        }
      ]
    },
    {
      "cell_type": "code",
      "source": "# compute confusinon Matrix\ncnf_matrix = confusion_matrix(y_test, yhat, labels=[1,0])\nnp.set_printoptions(precision=2)\n\n# plot non-normalized confusion matrix\nplt.figure()\nplot_confusion_matrix(cnf_matrix, classes =['chrin=1', 'churn=0'],normalize=False, title='Confusion matrix') ",
      "metadata": {
        "trusted": true
      },
      "execution_count": 37,
      "outputs": [
        {
          "name": "stdout",
          "text": "Confusion matrix, without normalization\n[[ 6  9]\n [ 1 24]]\n",
          "output_type": "stream"
        },
        {
          "output_type": "display_data",
          "data": {
            "text/plain": "<Figure size 640x480 with 2 Axes>",
            "image/png": "[encoded data removed]"
          },
          "metadata": {}
        }
      ]
    },
    {
      "cell_type": "markdown",
      "source": "Let's look at first row. The first row is for customers whose actual churn value in the test set is 1. As you can calculate, out of 40 customers, the churn value of 15 of them is 1. Out of these 15 cases, the classifier correctly predicted 6 of them as 1, and 9 of them as 0.\n\nThis means, for 6 customers, the actual churn value was 1 in test set and classifier also correctly predicted those as 1. However, while the actual label of 9 customers was 1, the classifier predicted those as 0, which is not very good. We can consider it as the error of the model for first row.\n\nWhat about the customers with churn value 0? Lets look at the second row. It looks like there were 25 customers whom their churn value were 0.\n\nThe classifier correctly predicted 24 of them as 0, and one of them wrongly as 1. So, it has done a good job in predicting the customers with churn value 0. A good thing about the confusion matrix is that it shows the model’s ability to correctly predict or separate the classes. In a specific case of the binary classifier, such as this example, we can interpret these numbers as the count of true positives, false positives, true negatives, and false negatives.",
      "metadata": {}
    },
    {
      "cell_type": "code",
      "source": "print(classification_report(y_test, yhat))",
      "metadata": {
        "trusted": true
      },
      "execution_count": 39,
      "outputs": [
        {
          "name": "stdout",
          "text": "              precision    recall  f1-score   support\n\n         0.0       0.73      0.96      0.83        25\n         1.0       0.86      0.40      0.55        15\n\n    accuracy                           0.75        40\n   macro avg       0.79      0.68      0.69        40\nweighted avg       0.78      0.75      0.72        40\n\n",
          "output_type": "stream"
        }
      ]
    },
    {
      "cell_type": "markdown",
      "source": "* Precision is a measure of the accuracy provided that a class label has been predicted. It is defined by: precision = TP / (TP + FP)\n\n* Recall is the true positive rate. It is defined as: Recall =  TP / (TP + FN)\n\nSo, we can calculate the precision and recall of each class.\n\n* F1 score: Now we are in the position to calculate the F1 scores for each label based on the precision and recall of that label.\n\nThe F1 score is the harmonic average of the precision and recall, where an F1 score reaches its best value at 1 (perfect precision and recall) and worst at 0. It is a good way to show that a classifer has a good value for both recall and precision.",
      "metadata": {}
    },
    {
      "cell_type": "markdown",
      "source": "### log loss\nNow, let's try log loss for evaluation. In logistic regression, the output can be the probability of customer churn is yes (or equals to 1). This probability is a value between 0 and 1. Log loss( Logarithmic loss) measures the performance of a classifier where the predicted output is a probability value between 0 and 1.",
      "metadata": {}
    },
    {
      "cell_type": "code",
      "source": "from sklearn.metrics import log_loss\nlog_loss(y_test, yhat_prob)",
      "metadata": {
        "trusted": true
      },
      "execution_count": 41,
      "outputs": [
        {
          "execution_count": 41,
          "output_type": "execute_result",
          "data": {
            "text/plain": "0.6017092478101185"
          },
          "metadata": {}
        }
      ]
    },
    {
      "cell_type": "markdown",
      "source": "* Try to build Logistic Regression model again for the same dataset, but this time, use different __solver__ and __regularization__ values? What is new __logLoss__ value?",
      "metadata": {}
    },
    {
      "cell_type": "code",
      "source": "LR2 = LogisticRegression(C=0.01, solver='sag').fit(X_train, y_train)\nyhat2_prob = LR2.predict_proba(X_test)\nprint('Logloss equals : %.2f' % log_loss(y_test, yhat_prob))",
      "metadata": {
        "trusted": true
      },
      "execution_count": 44,
      "outputs": [
        {
          "name": "stdout",
          "text": "Logloss equals : 0.60\n",
          "output_type": "stream"
        }
      ]
    },
    {
      "cell_type": "code",
      "source": "",
      "metadata": {},
      "execution_count": null,
      "outputs": []
    },
    {
      "cell_type": "code",
      "source": "",
      "metadata": {},
      "execution_count": null,
      "outputs": []
    },
    {
      "cell_type": "code",
      "source": "",
      "metadata": {},
      "execution_count": null,
      "outputs": []
    },
    {
      "cell_type": "code",
      "source": "",
      "metadata": {},
      "execution_count": null,
      "outputs": []
    }
  ]
}