{
 "cells": [
  {
   "cell_type": "code",
   "execution_count": 4,
   "id": "60f07e8c-298b-4d34-aa5f-8d4095bb9074",
   "metadata": {},
   "outputs": [],
   "source": [
    "import pandas as pd\n",
    "from pandasai import PandasAI\n",
    "from pandasai.llm.openai import OpenAI"
   ]
  },
  {
   "cell_type": "code",
   "execution_count": 6,
   "id": "38e4fcad-cc8b-40fe-b1b4-89d91ba64330",
   "metadata": {},
   "outputs": [],
   "source": [
    "df = pd.DataFrame({\n",
    "    \"country\": [\"United States\", \"United Kingdom\", \"France\", \"Germany\", \"Italy\", \"Spain\", \"Canada\", \"Australia\", \"Japan\", \"China\"],\n",
    "    \"gdp\": [21400000, 2940000, 2830000, 3870000, 2160000, 1350000, 1780000, 1320000, 516000, 14000000],\n",
    "    \"happiness_index\": [7.3, 7.2, 6.5, 7.0, 6.0, 6.3, 7.3, 7.3, 5.9, 5.0]\n",
    "})"
   ]
  },
  {
   "cell_type": "code",
   "execution_count": 7,
   "id": "fc377a27-1920-4f5d-b0bc-4fcba5ca1e71",
   "metadata": {},
   "outputs": [],
   "source": [
    "OPENAI_API_KEY = \"YOUR API KEY\"\n",
    "llm = OpenAI(api_token=OPENAI_API_KEY)"
   ]
  },
  {
   "cell_type": "code",
   "execution_count": 8,
   "id": "46baad38-32f2-4ed7-9e19-a18fe41bf0cf",
   "metadata": {},
   "outputs": [
    {
     "name": "stderr",
     "output_type": "stream",
     "text": [
      "C:\\Users\\nolan\\anaconda2\\envs\\timeseries2\\lib\\site-packages\\pandasai\\__init__.py:145: UserWarning: `PandasAI` (class) is deprecated since v1.0 and will be removed in a future release. Please use `SmartDataframe` instead.\n",
      "  warnings.warn(\n"
     ]
    },
    {
     "data": {
      "text/plain": [
       "'Unfortunately, I was not able to answer your question, because of the following error:\\n\\nBad gateway. {\"error\":{\"code\":502,\"message\":\"Bad gateway.\",\"param\":null,\"type\":\"cf_bad_gateway\"}} 502 {\\'error\\': {\\'code\\': 502, \\'message\\': \\'Bad gateway.\\', \\'param\\': None, \\'type\\': \\'cf_bad_gateway\\'}} {\\'Date\\': \\'Fri, 20 Oct 2023 01:25:50 GMT\\', \\'Content-Type\\': \\'application/json\\', \\'Content-Length\\': \\'84\\', \\'Connection\\': \\'keep-alive\\', \\'X-Frame-Options\\': \\'SAMEORIGIN\\', \\'Referrer-Policy\\': \\'same-origin\\', \\'Cache-Control\\': \\'private, max-age=0, no-store, no-cache, must-revalidate, post-check=0, pre-check=0\\', \\'Expires\\': \\'Thu, 01 Jan 1970 00:00:01 GMT\\', \\'Server\\': \\'cloudflare\\', \\'CF-RAY\\': \\'818d781fe9c15380-DEN\\', \\'alt-svc\\': \\'h3=\":443\"; ma=86400\\'}\\n'"
      ]
     },
     "execution_count": 8,
     "metadata": {},
     "output_type": "execute_result"
    }
   ],
   "source": [
    "pandas_ai = PandasAI(llm)\n",
    "pandas_ai.run(df, prompt='What are the 5 happiest countries')"
   ]
  },
  {
   "cell_type": "code",
   "execution_count": 9,
   "id": "d09a073e-3dc4-46f0-a79d-e29e8a4ae047",
   "metadata": {},
   "outputs": [],
   "source": [
    "import pandas as pd \n",
    "import numpy as np\n",
    "import datetime as dt"
   ]
  },
  {
   "cell_type": "code",
   "execution_count": 10,
   "id": "e87c46ac-611c-43b6-a5e0-2884d60e0149",
   "metadata": {},
   "outputs": [],
   "source": [
    "dt1 = dt.datetime(2021,1,1)\n",
    "dt2 = pd.Timestamp('2021-1-1')\n",
    "dt3 = pd.to_datetime('2021-1-1')"
   ]
  },
  {
   "cell_type": "code",
   "execution_count": 11,
   "id": "cf20388d-9f95-465a-9c29-05f4ec1ac5df",
   "metadata": {},
   "outputs": [
    {
     "name": "stdout",
     "output_type": "stream",
     "text": [
      "2021-01-01 00:00:00\n",
      "2021-01-01 00:00:00\n",
      "2021-01-01 00:00:00\n"
     ]
    }
   ],
   "source": [
    "print(dt1) \n",
    "print(dt2)\n",
    "print(dt3)"
   ]
  },
  {
   "cell_type": "code",
   "execution_count": 12,
   "id": "d2e0aebe-2dfd-4f4f-8c1d-ab337c0bc5dd",
   "metadata": {},
   "outputs": [
    {
     "name": "stdout",
     "output_type": "stream",
     "text": [
      "<class 'datetime.datetime'>\n",
      "<class 'pandas._libs.tslibs.timestamps.Timestamp'>\n",
      "<class 'pandas._libs.tslibs.timestamps.Timestamp'>\n"
     ]
    }
   ],
   "source": [
    "print(type(dt1)) \n",
    "print(type(dt2)) \n",
    "print(type(dt3))"
   ]
  },
  {
   "cell_type": "code",
   "execution_count": 13,
   "id": "24011f68-fc78-4445-bb95-a09311d9f09e",
   "metadata": {},
   "outputs": [
    {
     "data": {
      "text/plain": [
       "True"
      ]
     },
     "execution_count": 13,
     "metadata": {},
     "output_type": "execute_result"
    }
   ],
   "source": [
    "dt1 == dt2 == dt3"
   ]
  },
  {
   "cell_type": "code",
   "execution_count": 15,
   "id": "d4fa8d0c-7542-4d9c-8543-4452da0ba73a",
   "metadata": {},
   "outputs": [
    {
     "data": {
      "text/plain": [
       "True"
      ]
     },
     "execution_count": 15,
     "metadata": {},
     "output_type": "execute_result"
    }
   ],
   "source": [
    "isinstance(dt2, pd.Timestamp)"
   ]
  },
  {
   "cell_type": "code",
   "execution_count": 16,
   "id": "32fb9a4e-746b-4fb2-befb-3a13c777c88b",
   "metadata": {},
   "outputs": [
    {
     "data": {
      "text/plain": [
       "True"
      ]
     },
     "execution_count": 16,
     "metadata": {},
     "output_type": "execute_result"
    }
   ],
   "source": [
    "isinstance(dt3, pd.Timestamp)"
   ]
  },
  {
   "cell_type": "code",
   "execution_count": 17,
   "id": "33705203-f194-423c-a5ae-ef535b02fc7e",
   "metadata": {},
   "outputs": [
    {
     "data": {
      "text/plain": [
       "False"
      ]
     },
     "execution_count": 17,
     "metadata": {},
     "output_type": "execute_result"
    }
   ],
   "source": [
    "isinstance(dt1, pd.Timestamp)"
   ]
  },
  {
   "cell_type": "code",
   "execution_count": 18,
   "id": "df8b87b9-cddc-4fba-b860-d97e768adb93",
   "metadata": {},
   "outputs": [
    {
     "data": {
      "text/plain": [
       "True"
      ]
     },
     "execution_count": 18,
     "metadata": {},
     "output_type": "execute_result"
    }
   ],
   "source": [
    "issubclass(pd.Timestamp, dt.datetime)"
   ]
  },
  {
   "cell_type": "code",
   "execution_count": 21,
   "id": "801d5624-bfb7-44cb-8ca2-2b0a2348b0ab",
   "metadata": {},
   "outputs": [
    {
     "name": "stdout",
     "output_type": "stream",
     "text": [
      "DatetimeIndex(['2021-01-01', '2021-01-02'], dtype='datetime64[ns]', freq=None)\n",
      "<class 'pandas.core.indexes.datetimes.DatetimeIndex'>\n"
     ]
    }
   ],
   "source": [
    "dates = ['2021-1-1', '2021-1-2']\n",
    "pd_dates = pd.to_datetime(dates)\n",
    "print(pd_dates)\n",
    "print(type(pd_dates))"
   ]
  },
  {
   "cell_type": "code",
   "execution_count": 24,
   "id": "338589fc-9e06-401b-8767-2bd44a6f39e9",
   "metadata": {},
   "outputs": [
    {
     "name": "stdout",
     "output_type": "stream",
     "text": [
      "<class 'pandas._libs.tslibs.timestamps.Timestamp'>\n",
      "2021-01-01 00:00:00\n"
     ]
    }
   ],
   "source": [
    "print(type(pd_dates[0]))\n",
    "print(pd_dates[0])"
   ]
  },
  {
   "cell_type": "code",
   "execution_count": 49,
   "id": "4f2049a1",
   "metadata": {},
   "outputs": [],
   "source": [
    "import requests\n",
    "\n",
    "url = \"https://zillow56.p.rapidapi.com/search_url\"\n",
    "\n",
    "querystring = {\"url\":\"https://www.zillow.com/homes/for_sale/?searchQueryState=%7B%22mapBounds%22%3A%7B%22north%22%3A45.943434%2C%22south%22%3A45.353943%2C%22east%22%3A-107.948471%2C%22west%22%3A-108.802894%7D%2C%22mapZoom%22%3A8%2C%22regionSelection%22%3A%5B%7B%22regionId%22%3A37427%2C%22regionType%22%3A6%7D%5D%2C%22filterState%22%3A%7B%22sort%22%3A%7B%22value%22%3A%22globalrelevanceex%22%7D%2C%22pnd%22%3A%7B%22value%22%3Atrue%7D%2C%22price%22%3A%7B%22min%22%3A180000%2C%22max%22%3Anull%7D%2C%22tow%22%3A%7B%22value%22%3Afalse%7D%2C%22con%22%3A%7B%22value%22%3Afalse%7D%2C%22ah%22%3A%7B%22value%22%3Atrue%7D%2C%22apa%22%3A%7B%22value%22%3Afalse%7D%2C%22manu%22%3A%7B%22value%22%3Afalse%7D%2C%22apco%22%3A%7B%22value%22%3Afalse%7D%2C%22land%22%3A%7B%22value%22%3Afalse%7D%7D%2C%22savedSearchEnrollmentId%22%3A%22X1-SS9nzynzf347ot1000000000_b5qmb%22%7D\",\"page\":\"3\"}\n",
    "\n",
    "headers = {\n",
    "\t\"X-RapidAPI-Key\": \"aebe84f913msh772fc4da3eaf3a2p142534jsn9cc3fbcadf63\",\n",
    "\t\"X-RapidAPI-Host\": \"zillow56.p.rapidapi.com\"\n",
    "}\n",
    "\n",
    "response = requests.get(url, headers=headers, params=querystring)\n",
    "\n",
    "listings = response.json()\n",
    "df_list =pd.DataFrame(listings)\n",
    "df_list.to_csv('ListingsMT.csv')\n",
    "\n",
    "#print(response.json())"
   ]
  },
  {
   "cell_type": "code",
   "execution_count": 53,
   "id": "c6dd31de",
   "metadata": {},
   "outputs": [],
   "source": [
    "import requests\n",
    "import pandas as pd\n",
    "\n",
    "url = \"https://zillow56.p.rapidapi.com/search_url\"\n",
    "\n",
    "querystring = {\n",
    "    \"url\": \"https://www.zillow.com/homes/for_sale/?searchQueryState=%7B%22mapBounds%22%3A%7B%22north%22%3A45.943434%2C%22south%22%3A45.353943%2C%22east%22%3A-107.948471%2C%22west%22%3A-108.802894%7D%2C%22mapZoom%22%3A8%2C%22regionSelection%22%3A%5B%7B%22regionId%22%3A37427%2C%22regionType%22%3A6%7D%5D%2C%22filterState%22%3A%7B%22sort%22%3A%7B%22value%22%3A%22globalrelevanceex%22%7D%2C%22pnd%22%3A%7B%22value%22%3Atrue%7D%2C%22price%22%3A%7B%22min%22%3A180000%2C%22max%22%3Anull%7D%2C%22tow%22%3A%7B%22value%22%3Afalse%7D%2C%22con%22%3A%7B%22value%22%3Afalse%7D%2C%22ah%22%3A%7B%22value%22%3Atrue%7D%2C%22apa%22%3A%7B%22value%22%3Afalse%7D%2C%22manu%22%3A%7B%22value%22%3Afalse%7D%2C%22apco%22%3A%7B%22value%22%3Afalse%7D%2C%22land%22%3A%7B%22value%22%3Afalse%7D%7D%2C%22savedSearchEnrollmentId%22%3A%22X1-SS9nzynzf347ot1000000000_b5qmb%22%7D\",\n",
    "    \"page\": \"3\"\n",
    "}\n",
    "\n",
    "headers = {\n",
    "    \"X-RapidAPI-Key\": \"aebe84f913msh772fc4da3eaf3a2p142534jsn9cc3fbcadf63\",\n",
    "    \"X-RapidAPI-Host\": \"zillow56.p.rapidapi.com\"\n",
    "}\n",
    "\n",
    "response = requests.get(url, headers=headers, params=querystring)\n",
    "listings = response.json()\n",
    "\n",
    "\n",
    "# Extract relevant information from the parsed JSON\n",
    "listings_data = listings.get('results', [])\n",
    "\n",
    "# Extracted data will contain a list of dictionaries\n",
    "data = []\n",
    "for listing in listings_data:\n",
    "    row = {\n",
    "        'bedrooms': listing.get('bathrooms', None),\n",
    "        'bathrooms': listing.get('bedrooms', None),\n",
    "        'city': listing.get('city', None),\n",
    "        'country': listing.get('country', None),\n",
    "        'currency': listing.get('currency', None),\n",
    "        'daysOnZillow': listing.get('daysOnZillow', None),\n",
    "        'homeStatus': listing.get('homeStatus', None),\n",
    "        'homeStatusForHDP': listing.get('homeStatusForHDP', None),\n",
    "        'homeType': listing.get('homeType', None),\n",
    "        'isFeatured': listing.get('isFeatured', None),\n",
    "        'isNonOwnerOccupied': listing.get('isNonOwnerOccupied', None),\n",
    "        'isPreforeclosureAuction': listing.get('isPreforeclosureAuction', None),\n",
    "        'isPremierBuilder': listing.get('isPremierBuilder', None),\n",
    "        'isShowcaseListing': listing.get('isShowcaseListing', None),\n",
    "        'isUnmappable': listing.get('isUnmappable', None),\n",
    "        'isZillowOwned': listing.get('isZillowOwned', None),\n",
    "        'latitude': listing.get('latitude', None),\n",
    "        'longitude': listing.get('longitude', None),\n",
    "        'listing_sub_type': listing.get('listing_sub_type', {}).get('is_FSBA', None),\n",
    "        'livingArea': listing.get('livingArea', None),\n",
    "        'lotAreaUnit': listing.get('lotAreaUnit', None),\n",
    "        'lotAreaValue': listing.get('lotAreaValue', None),\n",
    "        'price': listing.get('price', None),\n",
    "        'priceForHDP': listing.get('priceForHDP', None),\n",
    "        'rentZestimate': listing.get('rentZestimate', None),\n",
    "    }\n",
    "    data.append(row)\n",
    "\n",
    "# Create DataFrame from the extracted data\n",
    "df_listings = pd.DataFrame(data)\n",
    "\n",
    "# Save the DataFrame to CSV\n",
    "df_listings.to_csv('ListingsMT.csv', index=False)\n"
   ]
  },
  {
   "cell_type": "code",
   "execution_count": null,
   "id": "c79fd735",
   "metadata": {},
   "outputs": [],
   "source": [
    "import requests\n",
    "import pandas as pd\n",
    "\n",
    "url = \"https://zillow56.p.rapidapi.com/search_url\"\n",
    "\n",
    "# Set up the initial parameters\n",
    "base_querystring = {\n",
    "    \"url\": \"https://www.zillow.com/homes/for_sale/?searchQueryState=%7B%22mapBounds%22%3A%7B%22north%22%3A45.943434%2C%22south%22%3A45.353943%2C%22east%22%3A-107.948471%2C%22west%22%3A-108.802894%7D%2C%22mapZoom%22%3A8%2C%22regionSelection%22%3A%5B%7B%22regionId%22%3A37427%2C%22regionType%22%3A6%7D%5D%2C%22filterState%22%3A%7B%22sort%22%3A%7B%22value%22%3A%22globalrelevanceex%22%7D%2C%22pnd%22%3A%7B%22value%22%3Atrue%7D%2C%22price%22%3A%7B%22min%22%3A180000%2C%22max%22%3Anull%7D%2C%22tow%22%3A%7B%22value%22%3Afalse%7D%2C%22con%22%3A%7B%22value%22%3Afalse%7D%2C%22ah%22%3A%7B%22value%22%3Atrue%7D%2C%22apa%22%3A%7B%22value%22%3Afalse%7D%2C%22manu%22%3A%7B%22value%22%3Afalse%7D%2C%22apco%22%3A%7B%22value%22%3Afalse%7D%2C%22land%22%3A%7B%22value%22%3Afalse%7D%7D%2C%22savedSearchEnrollmentId%22%3A%22X1-SS9nzynzf347ot1000000000_b5qmb%22%7D\",\n",
    "}\n",
    "\n",
    "headers = {\n",
    "    \"X-RapidAPI-Key\": \"aebe84f913msh772fc4da3eaf3a2p142534jsn9cc3fbcadf63\",\n",
    "    \"X-RapidAPI-Host\": \"zillow56.p.rapidapi.com\"\n",
    "}\n",
    "\n",
    "# Initialize an empty list to store results\n",
    "all_results = []\n",
    "\n",
    "# Loop through 14 pages\n",
    "for page in range(1, 15):\n",
    "    # Update the page parameter in the querystring\n",
    "    base_querystring[\"page\"] = str(page)\n",
    "\n",
    "    # Make the request\n",
    "    response = requests.get(url, headers=headers, params=base_querystring)\n",
    "    listings = response.json().get(\"results\", [])\n",
    "\n",
    "    # Append the results to the list\n",
    "    all_results.extend(listings)\n",
    "\n",
    "# Extract relevant information from the accumulated results\n",
    "data = []\n",
    "for listing in all_results:\n",
    "    row = {\n",
    "        'bedrooms': listing.get('bathrooms', None),\n",
    "        'bathrooms': listing.get('bedrooms', None),\n",
    "        'city': listing.get('city', None),\n",
    "        'country': listing.get('country', None),\n",
    "        'currency': listing.get('currency', None),\n",
    "        'daysOnZillow': listing.get('daysOnZillow', None),\n",
    "        'homeStatus': listing.get('homeStatus', None),\n",
    "        'homeStatusForHDP': listing.get('homeStatusForHDP', None),\n",
    "        'homeType': listing.get('homeType', None),\n",
    "        'isFeatured': listing.get('isFeatured', None),\n",
    "        'isNonOwnerOccupied': listing.get('isNonOwnerOccupied', None),\n",
    "        'isPreforeclosureAuction': listing.get('isPreforeclosureAuction', None),\n",
    "        'isPremierBuilder': listing.get('isPremierBuilder', None),\n",
    "        'isShowcaseListing': listing.get('isShowcaseListing', None),\n",
    "        'isUnmappable': listing.get('isUnmappable', None),\n",
    "        'isZillowOwned': listing.get('isZillowOwned', None),\n",
    "        'latitude': listing.get('latitude', None),\n",
    "        'longitude': listing.get('longitude', None),\n",
    "        'listing_sub_type': listing.get('listing_sub_type', {}).get('is_FSBA', None),\n",
    "        'livingArea': listing.get('livingArea', None),\n",
    "        'lotAreaUnit': listing.get('lotAreaUnit', None),\n",
    "        'lotAreaValue': listing.get('lotAreaValue', None),\n",
    "        'price': listing.get('price', None),\n",
    "        'priceForHDP': listing.get('priceForHDP', None),\n",
    "        'rentZestimate': listing.get('rentZestimate', None),\n",
    "    }\n",
    "    data.append(row)\n",
    "\n",
    "# Create DataFrame from the extracted data\n",
    "df_listings = pd.DataFrame(data)\n",
    "\n",
    "# Save the DataFrame to CSV\n",
    "df_listings.to_csv('ListingsMT.csv', index=False)\n"
   ]
  }
 ],
 "metadata": {
  "kernelspec": {
   "display_name": "Python 3 (ipykernel)",
   "language": "python",
   "name": "python3"
  },
  "language_info": {
   "codemirror_mode": {
    "name": "ipython",
    "version": 3
   },
   "file_extension": ".py",
   "mimetype": "text/x-python",
   "name": "python",
   "nbconvert_exporter": "python",
   "pygments_lexer": "ipython3",
   "version": "3.10.13"
  }
 },
 "nbformat": 4,
 "nbformat_minor": 5
}
