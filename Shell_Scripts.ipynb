{
 "cells": [
  {
   "cell_type": "code",
   "execution_count": null,
   "metadata": {},
   "outputs": [],
   "source": [
    "import urllib.request, urllib.parse, urllib.error\n",
    "from bs4 import BeautifulSoup\n",
    "\n",
    "# This is a web crawler that will scrape all links in a http url\n",
    "url  = input(\"Enter the URL: \")\n",
    "html = urllib.request.urlopen(url).read()\n",
    "soup = BeautifulSoup(html, 'html.parser')\n",
    "\n",
    "# retrieve all the anchor tags\n",
    "tags = soup('a')\n",
    "for tag in tags:\n",
    "    print(tag.get('href', None))"
   ]
  },
  {
   "cell_type": "code",
   "execution_count": null,
   "metadata": {},
   "outputs": [],
   "source": [
    "import xml.etree.ElementTree as ET\n",
    "\n",
    "### XML Script \n",
    "input = ''' <stuff>\n",
    "    <users>\n",
    "        <user x=\"3\">\n",
    "            <id>002</id>\n",
    "            <name>Bob</name>\n",
    "        </user>\n",
    "        <user x=\"5\">\n",
    "            <id>003</id>\n",
    "            <name>Bill</name>\n",
    "        </user>\n",
    "    </users>\n",
    "</stuff>'''\n",
    "\n",
    "## Parsoning XML\n",
    "\n",
    "stuff = ET.fromstring(input)\n",
    "lst = stuff.findall('users/user') \n",
    "print('User count:', len(lst))\n",
    "for user in lst:\n",
    "    print('Name:', user.find('name').text)\n",
    "    print('Id:', user.find('id').text)\n",
    "    print('Attr:', user.get('x'))"
   ]
  },
  {
   "cell_type": "code",
   "execution_count": null,
   "metadata": {},
   "outputs": [],
   "source": [
    "# parsoning XML using urlib\n",
    "\n",
    "import xml.etree.ElementTree as ET\n",
    "import urllib.request\n",
    "\n",
    "url = 'http://py4e-data.dr-chuck.net/comments_1868500.xml'\n",
    "data = urllib.request.urlopen(url).read()\n",
    "stuff = ET.fromstring(data)\n",
    "\n",
    "total = 0\n",
    "counts = stuff.findall('.//count')\n",
    "for count in counts:\n",
    "    total += int(count.text)\n",
    "    \n",
    "print(total)\n"
   ]
  },
  {
   "cell_type": "code",
   "execution_count": 2,
   "metadata": {},
   "outputs": [
    {
     "name": "stdout",
     "output_type": "stream",
     "text": [
      "CSV exported at 2023-11-29 00:32:08.077796\n"
     ]
    },
    {
     "ename": "KeyboardInterrupt",
     "evalue": "",
     "output_type": "error",
     "traceback": [
      "\u001b[0;31m---------------------------------------------------------------------------\u001b[0m",
      "\u001b[0;31mKeyboardInterrupt\u001b[0m                         Traceback (most recent call last)",
      "\u001b[1;32m/workspaces/New-Practices/Shell_Scripts.ipynb Cell 4\u001b[0m line \u001b[0;36m5\n\u001b[1;32m     <a href='vscode-notebook-cell://codespaces%2Bfictional-carnival-pvvppgw6xjvcwrr/workspaces/New-Practices/Shell_Scripts.ipynb#W3sdnNjb2RlLXJlbW90ZQ%3D%3D?line=52'>53</a>\u001b[0m \u001b[39mwhile\u001b[39;00m \u001b[39mTrue\u001b[39;00m:\n\u001b[1;32m     <a href='vscode-notebook-cell://codespaces%2Bfictional-carnival-pvvppgw6xjvcwrr/workspaces/New-Practices/Shell_Scripts.ipynb#W3sdnNjb2RlLXJlbW90ZQ%3D%3D?line=53'>54</a>\u001b[0m   schedule\u001b[39m.\u001b[39mrun_pending()\n\u001b[0;32m---> <a href='vscode-notebook-cell://codespaces%2Bfictional-carnival-pvvppgw6xjvcwrr/workspaces/New-Practices/Shell_Scripts.ipynb#W3sdnNjb2RlLXJlbW90ZQ%3D%3D?line=54'>55</a>\u001b[0m   time\u001b[39m.\u001b[39;49msleep(\u001b[39m60\u001b[39;49m)\n\u001b[1;32m     <a href='vscode-notebook-cell://codespaces%2Bfictional-carnival-pvvppgw6xjvcwrr/workspaces/New-Practices/Shell_Scripts.ipynb#W3sdnNjb2RlLXJlbW90ZQ%3D%3D?line=56'>57</a>\u001b[0m t \u001b[39m=\u001b[39m Thread(target\u001b[39m=\u001b[39mexport_csv)\n\u001b[1;32m     <a href='vscode-notebook-cell://codespaces%2Bfictional-carnival-pvvppgw6xjvcwrr/workspaces/New-Practices/Shell_Scripts.ipynb#W3sdnNjb2RlLXJlbW90ZQ%3D%3D?line=57'>58</a>\u001b[0m t\u001b[39m.\u001b[39mstart() \n",
      "\u001b[0;31mKeyboardInterrupt\u001b[0m: "
     ]
    }
   ],
   "source": [
    "import csv\n",
    "import requests\n",
    "from bs4 import BeautifulSoup\n",
    "from datetime import datetime\n",
    "import time\n",
    "import schedule\n",
    "from threading import Thread\n",
    "import os\n",
    "import urllib.request\n",
    "\n",
    "OUTPUT_FILE_PATH = r\"C:\\Users\\nolan\\OneDrive\\Documents/RMEI LLC/All_Montana_Listingsv2.csv\"\n",
    "URL = \"https://portal.onehome.com/en-US/properties/single-line?searchId=d208cc96-846c-473a-92ea-1bec82ed278e&token=eyJPU04iOiJCTVQiLCJjb250YWN0aWQiOiIxODc1OTYiLCJlbWFpbCI6Im5vbGFuLnNhcmFjZW5pMTA0N0BnbWFpbC5jb20iLCJhZ2VudGlkIjoiNDY4MSJ9\"\n",
    "\n",
    "def export_csv():\n",
    "  try:\n",
    "    # Get user input for URL\n",
    "    url = input(\"Enter URL: \")\n",
    "\n",
    "    # Open the URL\n",
    "    html = urllib.request.urlopen(url).read()\n",
    "\n",
    "  except urllib.error.HTTPError as e:\n",
    "    print(f\"HTTP error: {e.code} - {e.reason}\")\n",
    "\n",
    "  except urllib.error.URLError as e:\n",
    "    print(f\"Invalid URL: {e.reason}\") \n",
    "\n",
    "  else:\n",
    "    # Parse HTML \n",
    "    soup = BeautifulSoup(html, 'html.parser')\n",
    "\n",
    "    # Retrieve anchor tags\n",
    "    tags = soup('a')\n",
    "\n",
    "    # Print hrefs  \n",
    "    for tag in tags:\n",
    "        print(tag.get('href', None))\n",
    "  # Extract data and write to CSV\n",
    "\n",
    "print(\"CSV exported at\", datetime.now())\n",
    "\n",
    "# Handle HTTP errors\n",
    "\n",
    "# Parse HTML\n",
    "\n",
    "# Extract data \n",
    "\n",
    "# Write data to CSV\n",
    "\n",
    "\n",
    "schedule.every(1).minutes.do(export_csv)\n",
    "\n",
    "while True:\n",
    "  schedule.run_pending()\n",
    "  time.sleep(60)\n",
    "\n",
    "t = Thread(target=export_csv)\n",
    "t.start() \n"
   ]
  },
  {
   "cell_type": "code",
   "execution_count": null,
   "metadata": {},
   "outputs": [],
   "source": []
  }
 ],
 "metadata": {
  "kernelspec": {
   "display_name": "Python 3",
   "language": "python",
   "name": "python3"
  },
  "language_info": {
   "codemirror_mode": {
    "name": "ipython",
    "version": 3
   },
   "file_extension": ".py",
   "mimetype": "text/x-python",
   "name": "python",
   "nbconvert_exporter": "python",
   "pygments_lexer": "ipython3",
   "version": "3.10.8"
  }
 },
 "nbformat": 4,
 "nbformat_minor": 2
}
