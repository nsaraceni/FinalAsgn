{
 "cells": [
  {
   "cell_type": "code",
   "execution_count": null,
   "metadata": {},
   "outputs": [],
   "source": [
    "import urllib.request, urllib.parse, urllib.error\n",
    "from bs4 import BeautifulSoup\n",
    "\n",
    "# This is a web crawler that will scrape all links in a http url\n",
    "url  = input(\"Enter the URL: \")\n",
    "html = urllib.request.urlopen(url).read()\n",
    "soup = BeautifulSoup(html, 'html.parser')\n",
    "\n",
    "# retrieve all the anchor tags\n",
    "tags = soup('a')\n",
    "for tag in tags:\n",
    "    print(tag.get('href', None))"
   ]
  },
  {
   "cell_type": "code",
   "execution_count": null,
   "metadata": {},
   "outputs": [],
   "source": [
    "import xml.etree.ElementTree as ET\n",
    "\n",
    "### XML Script \n",
    "input = ''' <stuff>\n",
    "    <users>\n",
    "        <user x=\"3\">\n",
    "            <id>002</id>\n",
    "            <name>Bob</name>\n",
    "        </user>\n",
    "        <user x=\"5\">\n",
    "            <id>003</id>\n",
    "            <name>Bill</name>\n",
    "        </user>\n",
    "    </users>\n",
    "</stuff>'''\n",
    "\n",
    "## Parsoning XML\n",
    "\n",
    "stuff = ET.fromstring(input)\n",
    "lst = stuff.findall('users/user') \n",
    "print('User count:', len(lst))\n",
    "for user in lst:\n",
    "    print('Name:', user.find('name').text)\n",
    "    print('Id:', user.find('id').text)\n",
    "    print('Attr:', user.get('x'))"
   ]
  },
  {
   "cell_type": "code",
   "execution_count": null,
   "metadata": {},
   "outputs": [],
   "source": [
    "# parsoning XML using urlib\n",
    "\n",
    "import xml.etree.ElementTree as ET\n",
    "import urllib.request\n",
    "\n",
    "url = 'http://py4e-data.dr-chuck.net/comments_1868500.xml'\n",
    "data = urllib.request.urlopen(url).read()\n",
    "stuff = ET.fromstring(data)\n",
    "\n",
    "total = 0\n",
    "counts = stuff.findall('.//count')\n",
    "for count in counts:\n",
    "    total += int(count.text)\n",
    "    \n",
    "print(total)\n"
   ]
  }
 ],
 "metadata": {
  "language_info": {
   "name": "python"
  }
 },
 "nbformat": 4,
 "nbformat_minor": 2
}
